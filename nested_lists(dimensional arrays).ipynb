{
 "cells": [
  {
   "cell_type": "code",
   "execution_count": 2,
   "id": "67488835-3171-432d-9bb0-fa4a05942c05",
   "metadata": {},
   "outputs": [
    {
     "name": "stdout",
     "output_type": "stream",
     "text": [
      "[[1, 2, 3], [2, 3, 4], [3, 4, 5]]\n",
      "<class 'list'>\n"
     ]
    }
   ],
   "source": [
    "#nested lists \n",
    "a = [[1,2,3],[2,3,4],[3,4,5]]\n",
    "\n",
    "print(a)\n",
    "print(type(a))"
   ]
  },
  {
   "cell_type": "code",
   "execution_count": 10,
   "id": "8efebcc0-823a-4b09-ac84-64e3f292796e",
   "metadata": {},
   "outputs": [
    {
     "name": "stdout",
     "output_type": "stream",
     "text": [
      "<class 'list'>\n",
      "[['name', 'age', 'add'], ['ram', 32, 'kathmandu'], ['shyam', 45, 'berlin'], ['Hari', 34, 'new york']]\n",
      "4\n",
      "['shyam', 45, 'berlin']\n",
      "shyam\n"
     ]
    }
   ],
   "source": [
    "a = [['name','age','add'],\n",
    "     ['ram',32,'kathmandu'],\n",
    "     ['shyam',45,'berlin'],\n",
    "    ['Hari',34,'new york']]\n",
    "\n",
    "print(type(a))\n",
    "print(a)\n",
    "print(len(a))\n",
    "print(a[2])\n",
    "print(a[2][0])"
   ]
  },
  {
   "cell_type": "code",
   "execution_count": 11,
   "id": "baf33d58-8c44-487c-a48d-814520e2b42c",
   "metadata": {},
   "outputs": [
    {
     "name": "stdin",
     "output_type": "stream",
     "text": [
      "Enter n =  3\n",
      "Name :  Pawan \n",
      "Age :  45\n",
      "Add :  Kathmandu\n",
      "Name :  Sunil\n",
      "Age :  45\n",
      "Add :  Mangseybung\n",
      "Name :  Pabitra\n",
      "Age :  34\n",
      "Add :  Khogi \n"
     ]
    },
    {
     "name": "stdout",
     "output_type": "stream",
     "text": [
      "[['Pawan ', 45, 'Kathmandu'], ['Sunil', 45, 'Mangseybung'], ['Pabitra', 34, 'Khogi ']]\n"
     ]
    }
   ],
   "source": [
    "l = []\n",
    "n = int(input(\"Enter n = \"))\n",
    "for i in range(n):\n",
    "    name = input(\"Name : \")\n",
    "    age = int(input(\"Age : \"))\n",
    "    add = input(\"Add : \")\n",
    "    data = [name,age,add]\n",
    "    l.append(data)\n",
    "\n",
    "print(l)"
   ]
  },
  {
   "cell_type": "code",
   "execution_count": 22,
   "id": "3b8288d0-ba72-413f-998e-60290eaaedab",
   "metadata": {},
   "outputs": [
    {
     "name": "stdin",
     "output_type": "stream",
     "text": [
      "Enter name :  Ram\n"
     ]
    },
    {
     "name": "stdout",
     "output_type": "stream",
     "text": [
      "['ram', 32, 'kathmandu']\n",
      "['Ram', 56, 'Damak']\n",
      "['Ramesh', 56, 'Biratnagar']\n"
     ]
    }
   ],
   "source": [
    "a = [['name','age','add'],\n",
    "     ['ram',32,'kathmandu'],\n",
    "     ['shyam',45,'berlin'],\n",
    "    ['Hari',34,'new york'],\n",
    "    ['Ram',56,'Damak'],\n",
    "    ['Ramesh',56,'Biratnagar']]\n",
    "name = input(\"Enter name : \").lower()\n",
    "for i in a:\n",
    "    if name in i[0].lower():\n",
    "        print(i)"
   ]
  },
  {
   "cell_type": "code",
   "execution_count": 31,
   "id": "3569098f-6437-410d-ab9f-48432cf6595f",
   "metadata": {},
   "outputs": [
    {
     "name": "stdin",
     "output_type": "stream",
     "text": [
      "Enter name :  Ram\n"
     ]
    },
    {
     "name": "stdout",
     "output_type": "stream",
     "text": [
      "['ram', 32, 'kathmandu'] and the index is 1\n",
      "['Ram', 56, 'Damak'] and the index is 4\n"
     ]
    }
   ],
   "source": [
    "a = [['name','age','add'],\n",
    "     ['ram',32,'kathmandu'],\n",
    "     ['shyam',45,'berlin'],\n",
    "    ['Hari',34,'new york'],\n",
    "    ['Ram',56,'Damak'],\n",
    "    ['Ramesh',56,'Biratnagar']]\n",
    "name = input(\"Enter name : \").lower()\n",
    "index = 0\n",
    "for i in a:\n",
    "    if name == i[0].lower():\n",
    "        print(f\"{i} and the index is {index}\")\n",
    "    index+=1"
   ]
  },
  {
   "cell_type": "code",
   "execution_count": 27,
   "id": "16543c35-388a-426b-b7ab-4d49c2262df4",
   "metadata": {},
   "outputs": [
    {
     "name": "stdout",
     "output_type": "stream",
     "text": [
      "ram\n",
      "hari\n",
      "shayam\n",
      "pushpa\n",
      "ramlal\n"
     ]
    }
   ],
   "source": [
    "a = ['ram','hari','shayam', 'pushpa','ramlal']\n",
    "for i in a:\n",
    "    print(i)"
   ]
  },
  {
   "cell_type": "code",
   "execution_count": 30,
   "id": "9ca81b17-bd1a-4cb1-987a-f5fa8b3fb79e",
   "metadata": {},
   "outputs": [
    {
     "name": "stdin",
     "output_type": "stream",
     "text": [
      "Enter name :  RAM\n"
     ]
    },
    {
     "name": "stdout",
     "output_type": "stream",
     "text": [
      "0\n",
      "5\n",
      "6\n"
     ]
    }
   ],
   "source": [
    "a = ['ram','hari','shayam', 'pushpa','ramlal','RAM','Ram','Ganesh']\n",
    "l = len(a)\n",
    "name = input(\"Enter name : \").lower()\n",
    "for i in range(l):\n",
    "    if name == a[i].lower():\n",
    "        print(i)"
   ]
  },
  {
   "cell_type": "code",
   "execution_count": 32,
   "id": "806e58fd-a15c-4141-a1df-96c72a1f3b7b",
   "metadata": {},
   "outputs": [
    {
     "name": "stdin",
     "output_type": "stream",
     "text": [
      "Enter name :  Ram\n"
     ]
    },
    {
     "name": "stdout",
     "output_type": "stream",
     "text": [
      "ram is at the index 1\n",
      "ram is at the index 4\n"
     ]
    }
   ],
   "source": [
    "a = [['name','age','add'],\n",
    "     ['ram',32,'kathmandu'],\n",
    "     ['shyam',45,'berlin'],\n",
    "    ['Hari',34,'new york'],\n",
    "    ['Ram',56,'Damak'],\n",
    "    ['Ramesh',56,'Biratnagar']]\n",
    "name = input(\"Enter name : \").lower()\n",
    "l = len(a)\n",
    "for i in range(l):\n",
    "    if name == a[i][0].lower():\n",
    "        print(f\"{name} is at the index {i}\")"
   ]
  },
  {
   "cell_type": "code",
   "execution_count": 51,
   "id": "6ba219cb-4030-44f2-b239-15048af3f7f5",
   "metadata": {},
   "outputs": [
    {
     "name": "stdin",
     "output_type": "stream",
     "text": [
      "No of rows -  2\n",
      "No of cols -  5\n",
      "Enter the value -  1\n",
      "Enter the value -  2\n",
      "Enter the value -  3\n",
      "Enter the value -  4\n",
      "Enter the value -  5\n",
      "Enter the value -  6\n",
      "Enter the value -  7\n",
      "Enter the value -  8\n",
      "Enter the value -  9\n",
      "Enter the value -  10\n"
     ]
    },
    {
     "name": "stdout",
     "output_type": "stream",
     "text": [
      "[[1, 2, 3, 4, 5], [6, 7, 8, 9, 10]]\n"
     ]
    }
   ],
   "source": [
    "# write a program to create matrix in python\n",
    "\n",
    "i = int(input(\"No of rows - \"))\n",
    "j = int(input(\"No of cols - \"))\n",
    "\n",
    "matrix = []\n",
    "\n",
    "for n in range(i):\n",
    "    row = []\n",
    "    for n in range(j):\n",
    "        r = int(input(\"Enter the value - \"))\n",
    "        row.append(r)\n",
    "    matrix.append(row)\n",
    "print(matrix)"
   ]
  },
  {
   "cell_type": "code",
   "execution_count": null,
   "id": "3c97ecb0-607d-40ef-a19f-f8f4a9060e4b",
   "metadata": {},
   "outputs": [],
   "source": []
  }
 ],
 "metadata": {
  "kernelspec": {
   "display_name": "Python 3 (ipykernel)",
   "language": "python",
   "name": "python3"
  },
  "language_info": {
   "codemirror_mode": {
    "name": "ipython",
    "version": 3
   },
   "file_extension": ".py",
   "mimetype": "text/x-python",
   "name": "python",
   "nbconvert_exporter": "python",
   "pygments_lexer": "ipython3",
   "version": "3.11.7"
  }
 },
 "nbformat": 4,
 "nbformat_minor": 5
}
