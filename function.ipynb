{
 "cells": [
  {
   "cell_type": "code",
   "execution_count": 1,
   "id": "beb900e6-328f-4435-a5ac-ea531bdf6f99",
   "metadata": {},
   "outputs": [],
   "source": [
    "# function"
   ]
  },
  {
   "cell_type": "code",
   "execution_count": 3,
   "id": "95e91623-fcf4-44e9-9477-05983d84b0b3",
   "metadata": {},
   "outputs": [
    {
     "name": "stdin",
     "output_type": "stream",
     "text": [
      "Enter l =  2\n",
      "Enter b =  3\n"
     ]
    },
    {
     "name": "stdout",
     "output_type": "stream",
     "text": [
      "6\n",
      "2 3\n"
     ]
    }
   ],
   "source": [
    "def cal():\n",
    "    global l,b\n",
    "    l = int(input(\"Enter l = \"))\n",
    "    b = int(input(\"Enter b = \"))\n",
    "    a = l*b\n",
    "    print(a)\n",
    "\n",
    "cal()\n",
    "print(l,b)"
   ]
  },
  {
   "cell_type": "code",
   "execution_count": 4,
   "id": "0da8f5de-d783-4955-9792-f7d6844683c4",
   "metadata": {},
   "outputs": [
    {
     "name": "stdin",
     "output_type": "stream",
     "text": [
      "Enter l =  6\n",
      "Enter b =  7\n"
     ]
    },
    {
     "name": "stdout",
     "output_type": "stream",
     "text": [
      "42\n"
     ]
    }
   ],
   "source": [
    "# functions with arguements\n",
    "\n",
    "def cal(l,b):  # here l & b are parameters\n",
    "    a = l*b\n",
    "    print(a)\n",
    "    \n",
    "l = int(input(\"Enter l = \"))\n",
    "b = int(input(\"Enter b = \"))\n",
    "\n",
    "cal(l,b) # l,b are arguements"
   ]
  },
  {
   "cell_type": "code",
   "execution_count": 5,
   "id": "5338de40-fabf-4836-a83c-ce4f7a90d0df",
   "metadata": {},
   "outputs": [
    {
     "name": "stdin",
     "output_type": "stream",
     "text": [
      "Enter l =  12\n",
      "Enter b =  15\n",
      "Enter h =  4\n"
     ]
    },
    {
     "name": "stdout",
     "output_type": "stream",
     "text": [
      "180\n",
      "720\n"
     ]
    }
   ],
   "source": [
    "# multiple functions\n",
    "def area(l,b):  # here l & b are parameters\n",
    "    a = l*b\n",
    "    print(a)\n",
    "\n",
    "def volume(x,y,z):\n",
    "    v = l*b*h\n",
    "    print(v)\n",
    "\n",
    "\n",
    "l = int(input(\"Enter l = \"))\n",
    "b = int(input(\"Enter b = \"))\n",
    "h = int(input(\"Enter h = \"))\n",
    "\n",
    "area(l,b) # l,b are arguements\n",
    "volume(l,b,h)"
   ]
  },
  {
   "cell_type": "code",
   "execution_count": 6,
   "id": "d593e13c-8ce2-45cd-8e4b-6cfd3db9a94e",
   "metadata": {},
   "outputs": [
    {
     "name": "stdout",
     "output_type": "stream",
     "text": [
      "C\n",
      "C++\n",
      "Java\n",
      "C#\n",
      "PHP\n",
      "python\n"
     ]
    }
   ],
   "source": [
    "def language(lan = \"python\"):\n",
    "    print(lan)\n",
    "\n",
    "language(\"C\")\n",
    "language(\"C++\")\n",
    "language(\"Java\")\n",
    "language(\"C#\")\n",
    "language(\"PHP\")\n",
    "language()"
   ]
  },
  {
   "cell_type": "code",
   "execution_count": 8,
   "id": "73f104d3-ec29-4454-8564-5c333cefbbab",
   "metadata": {},
   "outputs": [
    {
     "name": "stdin",
     "output_type": "stream",
     "text": [
      "Enter l =  12\n",
      "Enter b =  12\n",
      "Enter h =  13\n"
     ]
    },
    {
     "name": "stdout",
     "output_type": "stream",
     "text": [
      "The volume =  1872\n"
     ]
    }
   ],
   "source": [
    "# return values\n",
    "def area(l,b):  # here l & b are parameters\n",
    "    l = int(input(\"Enter l = \"))\n",
    "    b = int(input(\"Enter b = \"))\n",
    "    a = l*b\n",
    "    return a\n",
    "\n",
    "ar = area(l,b)\n",
    "    \n",
    "h = int(input(\"Enter h = \"))\n",
    "\n",
    "v = ar*h\n",
    "\n",
    "print(\"The volume = \",v)\n"
   ]
  },
  {
   "cell_type": "code",
   "execution_count": 16,
   "id": "ac94f3a8-2c0d-48ef-a530-26aff5acce03",
   "metadata": {},
   "outputs": [
    {
     "name": "stdin",
     "output_type": "stream",
     "text": [
      "Enter l =  12\n",
      "Enter b =  6\n",
      "Enter h =  23\n"
     ]
    },
    {
     "name": "stdout",
     "output_type": "stream",
     "text": [
      "The volume =  1656\n"
     ]
    }
   ],
   "source": [
    "# return values\n",
    "def area(l,b):  # here l & b are parameters\n",
    "    a = l*b\n",
    "    return a\n",
    "\n",
    "l = int(input(\"Enter l = \"))\n",
    "b = int(input(\"Enter b = \"))\n",
    "ar = area(l,b)  # here l,b are arguements \n",
    "    \n",
    "h = int(input(\"Enter h = \"))\n",
    "v = ar*h\n",
    "print(\"The volume = \",v) \n"
   ]
  },
  {
   "cell_type": "code",
   "execution_count": 11,
   "id": "59dff399-e75e-455a-b660-3fa81123103e",
   "metadata": {},
   "outputs": [
    {
     "name": "stdin",
     "output_type": "stream",
     "text": [
      "Enter l =  12\n",
      "Enter b =  13\n",
      "Enter h =  12\n"
     ]
    },
    {
     "name": "stdout",
     "output_type": "stream",
     "text": [
      "The volume =  1872\n"
     ]
    }
   ],
   "source": [
    "# return values\n",
    "def area(l,b):  # here l & b are parameters\n",
    "    a = l*b\n",
    "    return a\n",
    "\n",
    "def volume(l,b,h):  # here l & b are parameters\n",
    "    a = area(l,b)\n",
    "    v = a*h\n",
    "    return v\n",
    "\n",
    "l = int(input(\"Enter l = \"))\n",
    "b = int(input(\"Enter b = \"))\n",
    "h = int(input(\"Enter h = \"))\n",
    "\n",
    "print(\"The volume = \",volume(l,b,h))"
   ]
  },
  {
   "cell_type": "code",
   "execution_count": 1,
   "id": "9bb5cee5-76f0-4500-bf46-668b00fac2ac",
   "metadata": {},
   "outputs": [
    {
     "name": "stdout",
     "output_type": "stream",
     "text": [
      "Input the numbers:\n"
     ]
    },
    {
     "name": "stdin",
     "output_type": "stream",
     "text": [
      "a =  12\n",
      "b =  23\n"
     ]
    },
    {
     "name": "stdout",
     "output_type": "stream",
     "text": [
      "Choose the opeartion: \n",
      "1. Addition\n",
      "2. Subtraction\n",
      "3. Multiplication\n",
      "4. Division\n"
     ]
    },
    {
     "name": "stdin",
     "output_type": "stream",
     "text": [
      " Operation -   1\n"
     ]
    },
    {
     "name": "stdout",
     "output_type": "stream",
     "text": [
      "a + b =  35\n"
     ]
    }
   ],
   "source": [
    "# WAP to create a basic calculator using the functions and if else\n",
    "\n",
    "def sum():\n",
    "    sum = a + b\n",
    "    return sum\n",
    "\n",
    "def sub():\n",
    "    sub = a - b\n",
    "    return sub\n",
    "\n",
    "def mul():\n",
    "    mul = a * b\n",
    "    return mul\n",
    "\n",
    "def div():\n",
    "    div = a/b\n",
    "    return div\n",
    "print(\"Input the numbers:\")\n",
    "a = int(input(\"a = \"))\n",
    "b = int(input(\"b = \"))\n",
    "\n",
    "print(\"Choose the opeartion: \")\n",
    "print(\"1. Addition\")\n",
    "print(\"2. Subtraction\")\n",
    "print(\"3. Multiplication\")\n",
    "print(\"4. Division\")\n",
    "\n",
    "o = int(input(\" Operation -  \"))\n",
    "\n",
    "if o ==1:\n",
    "    print(f\"a + b = \",sum())\n",
    "elif o ==2:\n",
    "    print(f\"a - b = \",sub())\n",
    "elif o ==3:\n",
    "    print(f\"a X b = \",mul())\n",
    "elif o ==4:\n",
    "    print(f\"a/b = \",div())\n",
    "else:\n",
    "    print(\"Invalid input!\")"
   ]
  },
  {
   "cell_type": "code",
   "execution_count": null,
   "id": "2e318609-1150-40c6-bac5-b57f8d7d2d92",
   "metadata": {},
   "outputs": [],
   "source": [
    "#resursive functions\n",
    "def hello():\n",
    "    print(\"Hello World\")\n",
    "    hello()\n",
    "\n",
    "hello()"
   ]
  },
  {
   "cell_type": "code",
   "execution_count": 3,
   "id": "2af5c4d2-4c65-4b6b-a967-237197f1d841",
   "metadata": {},
   "outputs": [
    {
     "name": "stdout",
     "output_type": "stream",
     "text": [
      "Hello World\n"
     ]
    },
    {
     "name": "stdin",
     "output_type": "stream",
     "text": [
      "Enter y for more calculation y\n"
     ]
    },
    {
     "name": "stdout",
     "output_type": "stream",
     "text": [
      "Hello World\n"
     ]
    },
    {
     "name": "stdin",
     "output_type": "stream",
     "text": [
      "Enter y for more calculation y\n"
     ]
    },
    {
     "name": "stdout",
     "output_type": "stream",
     "text": [
      "Hello World\n"
     ]
    },
    {
     "name": "stdin",
     "output_type": "stream",
     "text": [
      "Enter y for more calculation r\n"
     ]
    }
   ],
   "source": [
    "def hello():\n",
    "    print(\"Hello World\")\n",
    "    x = input(\"Enter y for more calculation\")\n",
    "    if x == 'y':\n",
    "        hello()\n",
    "\n",
    "hello()"
   ]
  },
  {
   "cell_type": "code",
   "execution_count": 5,
   "id": "ca83bb27-ed20-4c88-b7ef-0f95976723e9",
   "metadata": {},
   "outputs": [
    {
     "name": "stdout",
     "output_type": "stream",
     "text": [
      "Input the numbers:\n"
     ]
    },
    {
     "name": "stdin",
     "output_type": "stream",
     "text": [
      "a =  12\n",
      "b =  23\n"
     ]
    },
    {
     "name": "stdout",
     "output_type": "stream",
     "text": [
      "Choose the opeartion: \n",
      "1. Addition\n",
      "2. Subtraction\n",
      "3. Multiplication\n",
      "4. Division\n"
     ]
    },
    {
     "name": "stdin",
     "output_type": "stream",
     "text": [
      " Operation -   1\n"
     ]
    },
    {
     "name": "stdout",
     "output_type": "stream",
     "text": [
      "a + b =  35\n"
     ]
    },
    {
     "name": "stdin",
     "output_type": "stream",
     "text": [
      "Enter y for more cal =  y\n"
     ]
    },
    {
     "name": "stdout",
     "output_type": "stream",
     "text": [
      "Input the numbers:\n"
     ]
    },
    {
     "name": "stdin",
     "output_type": "stream",
     "text": [
      "a =  34\n",
      "b =  23\n"
     ]
    },
    {
     "name": "stdout",
     "output_type": "stream",
     "text": [
      "Choose the opeartion: \n",
      "1. Addition\n",
      "2. Subtraction\n",
      "3. Multiplication\n",
      "4. Division\n"
     ]
    },
    {
     "name": "stdin",
     "output_type": "stream",
     "text": [
      " Operation -   4\n"
     ]
    },
    {
     "name": "stdout",
     "output_type": "stream",
     "text": [
      "a/b =  0.5217391304347826\n"
     ]
    },
    {
     "name": "stdin",
     "output_type": "stream",
     "text": [
      "Enter y for more cal =  w\n"
     ]
    }
   ],
   "source": [
    "def sum():\n",
    "    sum = a + b\n",
    "    return sum\n",
    "\n",
    "def sub():\n",
    "    sub = a - b\n",
    "    return sub\n",
    "\n",
    "def mul():\n",
    "    mul = a * b\n",
    "    return mul\n",
    "\n",
    "def div():\n",
    "    div = a/b\n",
    "    return div\n",
    "\n",
    "def cal():\n",
    "    print(\"Input the numbers:\")\n",
    "    a = int(input(\"a = \"))\n",
    "    b = int(input(\"b = \"))\n",
    "    \n",
    "    print(\"Choose the opeartion: \")\n",
    "    print(\"1. Addition\")\n",
    "    print(\"2. Subtraction\")\n",
    "    print(\"3. Multiplication\")\n",
    "    print(\"4. Division\")\n",
    "    \n",
    "    o = int(input(\" Operation -  \"))\n",
    "    \n",
    "    if o ==1:\n",
    "        print(f\"a + b = \",sum())\n",
    "    elif o ==2:\n",
    "        print(f\"a - b = \",sub())\n",
    "    elif o ==3:\n",
    "        print(f\"a X b = \",mul())\n",
    "    elif o ==4:\n",
    "        print(f\"a/b = \",div())\n",
    "    else:\n",
    "        print(\"Invalid input!\")\n",
    "    \n",
    "    x = input(\"Enter y for more cal = \")\n",
    "    if x == 'y':\n",
    "        cal()\n",
    "\n",
    "cal()"
   ]
  },
  {
   "cell_type": "code",
   "execution_count": 8,
   "id": "2b157156-c222-40f4-98d4-3a0da8dd1a61",
   "metadata": {},
   "outputs": [
    {
     "name": "stdout",
     "output_type": "stream",
     "text": [
      "4\n",
      "120\n"
     ]
    }
   ],
   "source": [
    "#lambda functions\n",
    "# lambda <arguements>:<operations>\n",
    "\n",
    "x = lambda a:a*2\n",
    "print(x(2))\n",
    "\n",
    "area = lambda l,b:l*b\n",
    "print(area(10,12))"
   ]
  },
  {
   "cell_type": "code",
   "execution_count": 10,
   "id": "7d7084bb-c43f-4e93-aa61-7f5a63913737",
   "metadata": {},
   "outputs": [
    {
     "name": "stdout",
     "output_type": "stream",
     "text": [
      "[0, 2, 4, 6, 8]\n"
     ]
    }
   ],
   "source": [
    "#filter functions\n",
    "# list(filter(lambda <arguements>:<conditions>,<array>))\n",
    "\n",
    "\n",
    "a = [0,1,2,3,4,5,6,7,8,9]\n",
    "l = list(filter(lambda x:x%2==0,a))\n",
    "print(l)"
   ]
  },
  {
   "cell_type": "code",
   "execution_count": 13,
   "id": "b1438648-0d09-47f5-9a67-a24bb3488426",
   "metadata": {},
   "outputs": [
    {
     "name": "stdout",
     "output_type": "stream",
     "text": [
      "['ball', 'hanuman']\n"
     ]
    }
   ],
   "source": [
    "a = ['Apple','ball','CAT','Dog','hanuman']\n",
    "\n",
    "l = list(filter(lambda x : x.islower(),a))\n",
    "print(l)"
   ]
  },
  {
   "cell_type": "code",
   "execution_count": 14,
   "id": "100f8d96-63a5-4203-bdbe-8a0616eab33b",
   "metadata": {},
   "outputs": [
    {
     "name": "stdout",
     "output_type": "stream",
     "text": [
      "['Apple', 'CAT', 'Dog']\n"
     ]
    }
   ],
   "source": [
    "a = ['Apple','ball','CAT','Dog','hanuman']\n",
    "\n",
    "l = list(filter(lambda x : not x.islower(),a))\n",
    "print(l)"
   ]
  },
  {
   "cell_type": "code",
   "execution_count": 16,
   "id": "535cd713-a428-4623-a228-bbdedbf0c4fb",
   "metadata": {},
   "outputs": [
    {
     "name": "stdout",
     "output_type": "stream",
     "text": [
      "['apple', 'ball', 'cat', 'dog', 'hanuman']\n"
     ]
    }
   ],
   "source": [
    "#map functions\n",
    "# list(map(lambda <arguements>:<conditions>,<array>))\n",
    "\n",
    "a = ['Apple','ball','CAT','Dog','hanuman']\n",
    "l = list(map(lambda x :x.lower(),a))\n",
    "\n",
    "print(l)"
   ]
  },
  {
   "cell_type": "code",
   "execution_count": 17,
   "id": "34a91b57-134b-437d-b0f5-35b1a9779308",
   "metadata": {},
   "outputs": [
    {
     "name": "stdout",
     "output_type": "stream",
     "text": [
      "[0, 1, 4, 9, 16, 25, 36, 49, 64, 81]\n"
     ]
    }
   ],
   "source": [
    "a = [0,1,2,3,4,5,6,7,8,9]\n",
    "l = list(map(lambda x:x**2,a))\n",
    "print(l)"
   ]
  },
  {
   "cell_type": "code",
   "execution_count": 21,
   "id": "a4e9ac6b-b1fd-4d9e-b655-6344f0f5b6ed",
   "metadata": {},
   "outputs": [
    {
     "name": "stdout",
     "output_type": "stream",
     "text": [
      "3.141592653589793\n",
      "2.718281828459045\n",
      "0.8939966636005579\n",
      "1.0\n"
     ]
    },
    {
     "data": {
      "text/plain": [
       "3628800"
      ]
     },
     "execution_count": 21,
     "metadata": {},
     "output_type": "execute_result"
    }
   ],
   "source": [
    "import math as m \n",
    "print(m.pi)\n",
    "print(m.e)\n",
    "\n",
    "print(m.sin(90))\n",
    "print(m.sin(m.pi/2))\n",
    "\n",
    "m.factorial(10)"
   ]
  },
  {
   "cell_type": "code",
   "execution_count": null,
   "id": "81b64aef-c060-4256-8df4-baff4c25988c",
   "metadata": {},
   "outputs": [],
   "source": [
    "def info(data):\n",
    "    print(f\"Hello I am {data['name']}. I am from {data['add']}. I am {data['age']} years old.\")\n",
    "\n",
    "name = input(\"Enter name = \")\n",
    "age = int(input(\"Enter age = \"))\n",
    "add = input(\"Enter add = \")\n",
    "\n",
    "d = {'name':name,'age':age,'add':add}\n",
    "\n",
    "info(d)"
   ]
  },
  {
   "cell_type": "code",
   "execution_count": null,
   "id": "2b5a4fba-6cda-4b10-8dca-bbc521e3f863",
   "metadata": {},
   "outputs": [],
   "source": []
  }
 ],
 "metadata": {
  "kernelspec": {
   "display_name": "Python 3 (ipykernel)",
   "language": "python",
   "name": "python3"
  },
  "language_info": {
   "codemirror_mode": {
    "name": "ipython",
    "version": 3
   },
   "file_extension": ".py",
   "mimetype": "text/x-python",
   "name": "python",
   "nbconvert_exporter": "python",
   "pygments_lexer": "ipython3",
   "version": "3.11.7"
  }
 },
 "nbformat": 4,
 "nbformat_minor": 5
}
