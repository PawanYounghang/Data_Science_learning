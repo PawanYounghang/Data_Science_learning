{
 "cells": [
  {
   "cell_type": "code",
   "execution_count": 1,
   "id": "39f1a404-735b-4eec-b2a6-b1ddc602c946",
   "metadata": {},
   "outputs": [],
   "source": [
    "#file handling \n",
    "# read and write for basic files using python\n",
    "\n",
    "# syntax\n",
    "# file = open('<file_name>','<mode>')\n",
    "# file.close()\n"
   ]
  },
  {
   "cell_type": "code",
   "execution_count": 1,
   "id": "a8d44d04-2852-4342-8f39-7fb2c638028b",
   "metadata": {},
   "outputs": [],
   "source": [
    "file = open('data.txt','x')  # creates the txt file named data.txt with the mode create \n",
    "file.close()"
   ]
  },
  {
   "cell_type": "code",
   "execution_count": 3,
   "id": "d9275d34-39d2-40ed-ada8-5baedf50a23c",
   "metadata": {},
   "outputs": [
    {
     "name": "stdout",
     "output_type": "stream",
     "text": [
      "1. Hello World\n",
      "2. Hello World\n",
      "3. Hello World\n",
      "4. Hello World\n",
      "5. Hello World\n",
      "<class 'str'>\n"
     ]
    }
   ],
   "source": [
    "file = open('data.txt','r')  # creates the txt file named data.txt with the mode create \n",
    "data = file.read()\n",
    "\n",
    "print(data)\n",
    "file.close()\n",
    "\n",
    "print(type(data))"
   ]
  },
  {
   "cell_type": "code",
   "execution_count": 5,
   "id": "16bd8599-8d93-4153-8697-074df642f693",
   "metadata": {},
   "outputs": [
    {
     "name": "stdout",
     "output_type": "stream",
     "text": [
      "['1. Hello World', '2. Hello World', '3. Hello World', '4. Hello World', '5. Hello World']\n",
      "2. Hello World\n"
     ]
    }
   ],
   "source": [
    "l = data.split('\\n')\n",
    "print(l)\n",
    "print(l[1])"
   ]
  },
  {
   "cell_type": "code",
   "execution_count": 6,
   "id": "07ea7c31-fcdd-421c-9d59-4c6b70e9c3b8",
   "metadata": {},
   "outputs": [],
   "source": [
    "file = open('data1.txt','w')  # here w is used in mode for writing\n",
    "file.write(\"Hello World\")\n",
    "\n",
    "file.close()"
   ]
  },
  {
   "cell_type": "code",
   "execution_count": 9,
   "id": "a0c47d13-eb2f-4cbf-8c5f-1a909c10917a",
   "metadata": {},
   "outputs": [
    {
     "name": "stdin",
     "output_type": "stream",
     "text": [
      "Enter n =  5\n",
      "Product name :  Sugar\n",
      "Price :  234\n",
      "Quantity :  3\n",
      "Product name :  Maida\n",
      "Price :  345\n",
      "Quantity :  2\n",
      "Product name :  Waiwai\n",
      "Price :  67\n",
      "Quantity :  23\n",
      "Product name :  Rice \n",
      "Price :  1230\n",
      "Quantity :  2\n",
      "Product name :  Oiol\n",
      "Price :  100\n",
      "Quantity :  2\n"
     ]
    }
   ],
   "source": [
    "bill = \"\"\n",
    "n = int(input(\"Enter n = \"))\n",
    "for i in range(n):\n",
    "    name = input(\"Product name : \")\n",
    "    price = int(input(\"Price : \"))\n",
    "    quan = int(input(\"Quantity : \"))\n",
    "    total = price*quan\n",
    "    bill = bill + f\"{name}\\t\\t{price} X {quan} \\t {total}\\n\"\n",
    "\n",
    "file = open('bill.txt','w')\n",
    "file.write(\"\\nYounghang Kirana Store\\n\\n\")\n",
    "file.write(\"Name\\t\\t Price X Qty. \\t Total\\n\")\n",
    "file.write(bill)\n",
    "file.close()\n"
   ]
  },
  {
   "cell_type": "code",
   "execution_count": 11,
   "id": "896c7887-ff96-41ca-928b-e1642c33c8d1",
   "metadata": {},
   "outputs": [
    {
     "name": "stdout",
     "output_type": "stream",
     "text": [
      "\n",
      "Younghang Kirana Store\n",
      "\n",
      "Name\t\t Price X Qty. \t Total\n",
      "Sugar\t\t234 X 3 \t 702\n",
      "Maida\t\t345 X 2 \t 690\n",
      "Waiwai\t\t67 X 23 \t 1541\n",
      "Rice \t\t1230 X 2 \t 2460\n",
      "Oiol\t\t100 X 2 \t 200\n",
      "\n"
     ]
    }
   ],
   "source": [
    "file = open('bill.txt','r') \n",
    "data = file.read()\n",
    "print(data)\n",
    "file.close()"
   ]
  },
  {
   "cell_type": "code",
   "execution_count": 18,
   "id": "1f08e291-b7bb-43be-aab0-995234b50d74",
   "metadata": {},
   "outputs": [
    {
     "name": "stdout",
     "output_type": "stream",
     "text": [
      "['Younghang Kirana Store', '', 'Name\\t\\t Price X Qty. \\t Total', 'Sugar\\t\\t234 X 3 \\t 702', 'Maida\\t\\t345 X 2 \\t 690', 'Waiwai\\t\\t67 X 23 \\t 1541', 'Rice \\t\\t1230 X 2 \\t 2460', 'Oiol\\t\\t100 X 2 \\t 200']\n",
      "['Younghang Kirana Store']\n",
      "['']\n",
      "['Name', '', ' Price X Qty. ', ' Total']\n",
      "['Sugar', '', '234 X 3 ', ' 702']\n",
      "['Maida', '', '345 X 2 ', ' 690']\n",
      "['Waiwai', '', '67 X 23 ', ' 1541']\n",
      "['Rice ', '', '1230 X 2 ', ' 2460']\n",
      "['Oiol', '', '100 X 2 ', ' 200']\n"
     ]
    }
   ],
   "source": [
    "list_data = data.split('\\n')[1:-1]\n",
    "print(list_data)\n",
    "for i in list_data:\n",
    "    print(i.split('\\t'))"
   ]
  },
  {
   "cell_type": "code",
   "execution_count": 21,
   "id": "6dbd733d-91e8-463a-976e-4377b920fe69",
   "metadata": {},
   "outputs": [
    {
     "name": "stdin",
     "output_type": "stream",
     "text": [
      "Enter n =  2\n",
      "Product name :  Sugar\n",
      "Price :  450\n",
      "Quantity :  2\n",
      "Product name :  Oil\n",
      "Price :  200\n",
      "Quantity :  6\n"
     ]
    }
   ],
   "source": [
    "bill = \"\"\n",
    "n = int(input(\"Enter n = \"))\n",
    "for i in range(n):\n",
    "    name = input(\"Product name : \")\n",
    "    price = int(input(\"Price : \"))\n",
    "    quan = int(input(\"Quantity : \"))\n",
    "    total = price*quan\n",
    "    bill = bill + f\"{name},{price},{quan},{total}\\n\"\n",
    "\n",
    "file = open('bill.csv','w')\n",
    "file.write(\"Name,Price,Qty.,Total\\n\")\n",
    "file.write(bill)\n",
    "file.close()"
   ]
  },
  {
   "cell_type": "code",
   "execution_count": 22,
   "id": "e188d4cd-59fd-449f-9028-cb5dc78cd41f",
   "metadata": {},
   "outputs": [
    {
     "data": {
      "text/plain": [
       "'C:\\\\Users\\\\pawan\\\\A Data Science with Python Training'"
      ]
     },
     "execution_count": 22,
     "metadata": {},
     "output_type": "execute_result"
    }
   ],
   "source": [
    "pwd"
   ]
  },
  {
   "cell_type": "code",
   "execution_count": 26,
   "id": "abb8ec73-fd6a-4d87-9171-f1fe7bf7c363",
   "metadata": {},
   "outputs": [
    {
     "data": {
      "text/html": [
       "<div>\n",
       "<style scoped>\n",
       "    .dataframe tbody tr th:only-of-type {\n",
       "        vertical-align: middle;\n",
       "    }\n",
       "\n",
       "    .dataframe tbody tr th {\n",
       "        vertical-align: top;\n",
       "    }\n",
       "\n",
       "    .dataframe thead th {\n",
       "        text-align: right;\n",
       "    }\n",
       "</style>\n",
       "<table border=\"1\" class=\"dataframe\">\n",
       "  <thead>\n",
       "    <tr style=\"text-align: right;\">\n",
       "      <th></th>\n",
       "      <th>Name</th>\n",
       "      <th>Price</th>\n",
       "      <th>Qty.</th>\n",
       "      <th>Total</th>\n",
       "    </tr>\n",
       "  </thead>\n",
       "  <tbody>\n",
       "    <tr>\n",
       "      <th>0</th>\n",
       "      <td>Sugar</td>\n",
       "      <td>450</td>\n",
       "      <td>2</td>\n",
       "      <td>900</td>\n",
       "    </tr>\n",
       "    <tr>\n",
       "      <th>1</th>\n",
       "      <td>Oil</td>\n",
       "      <td>200</td>\n",
       "      <td>6</td>\n",
       "      <td>1200</td>\n",
       "    </tr>\n",
       "  </tbody>\n",
       "</table>\n",
       "</div>"
      ],
      "text/plain": [
       "    Name  Price  Qty.  Total\n",
       "0  Sugar    450     2    900\n",
       "1    Oil    200     6   1200"
      ]
     },
     "execution_count": 26,
     "metadata": {},
     "output_type": "execute_result"
    }
   ],
   "source": [
    "import pandas as pd\n",
    "df = pd.read_csv('bill.csv')\n",
    "\n",
    "df"
   ]
  },
  {
   "cell_type": "code",
   "execution_count": null,
   "id": "7cd3bad7-58c9-4047-9582-9dcdd23a2a34",
   "metadata": {},
   "outputs": [],
   "source": []
  }
 ],
 "metadata": {
  "kernelspec": {
   "display_name": "Python 3 (ipykernel)",
   "language": "python",
   "name": "python3"
  },
  "language_info": {
   "codemirror_mode": {
    "name": "ipython",
    "version": 3
   },
   "file_extension": ".py",
   "mimetype": "text/x-python",
   "name": "python",
   "nbconvert_exporter": "python",
   "pygments_lexer": "ipython3",
   "version": "3.11.7"
  }
 },
 "nbformat": 4,
 "nbformat_minor": 5
}
