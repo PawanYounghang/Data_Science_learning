{
 "cells": [
  {
   "cell_type": "code",
   "execution_count": 1,
   "id": "dcac0657-3118-4e16-88d1-778a3281a7eb",
   "metadata": {},
   "outputs": [],
   "source": [
    "# tuple\n",
    "# indexing\n",
    "# multiple and duplicate data \n",
    "# ordered \n",
    "# immutable "
   ]
  },
  {
   "cell_type": "code",
   "execution_count": 2,
   "id": "a6d17a0c-7a53-479c-a341-56a25abeab48",
   "metadata": {},
   "outputs": [],
   "source": [
    "a = tuple()"
   ]
  },
  {
   "cell_type": "code",
   "execution_count": 3,
   "id": "bb982666-4358-484b-b99e-d90810fd045b",
   "metadata": {},
   "outputs": [
    {
     "name": "stdout",
     "output_type": "stream",
     "text": [
      "(1, 2, 3, 4, 5, 6, 7)\n",
      "<class 'tuple'>\n"
     ]
    }
   ],
   "source": [
    "a = (1,2,3,4,5,6,7)\n",
    "print(a)\n",
    "print(type(a))"
   ]
  },
  {
   "cell_type": "code",
   "execution_count": 4,
   "id": "3290959c-4edc-4f07-b17c-69ec1d4185df",
   "metadata": {},
   "outputs": [
    {
     "name": "stdout",
     "output_type": "stream",
     "text": [
      "ball\n"
     ]
    }
   ],
   "source": [
    "a = ('apple','ball')\n",
    "print(a[1])"
   ]
  },
  {
   "cell_type": "code",
   "execution_count": 5,
   "id": "3b9ff251-c970-497b-a1cf-6111acf47a2a",
   "metadata": {},
   "outputs": [
    {
     "name": "stdout",
     "output_type": "stream",
     "text": [
      "<class 'int'>\n",
      "<class 'tuple'>\n"
     ]
    }
   ],
   "source": [
    "a = (1)\n",
    "b = (1,)\n",
    "print(type(a))\n",
    "print(type(b))"
   ]
  },
  {
   "cell_type": "code",
   "execution_count": 7,
   "id": "6652da3d-84af-48be-91fd-56b2ada70ce5",
   "metadata": {},
   "outputs": [],
   "source": [
    "# no append() extend()\n",
    "# No update \n",
    "# No del pop() remove()\n",
    "# No sort()"
   ]
  },
  {
   "cell_type": "code",
   "execution_count": 8,
   "id": "954667bd-9335-4c08-8b2c-bef7ddde0afd",
   "metadata": {},
   "outputs": [
    {
     "name": "stdin",
     "output_type": "stream",
     "text": [
      " Enter X =  23\n",
      " Enter X =  34\n",
      " Enter X =  23\n",
      " Enter X =  45\n",
      " Enter X =  56\n"
     ]
    },
    {
     "name": "stdout",
     "output_type": "stream",
     "text": [
      "(23, 34, 23, 45, 56)\n"
     ]
    }
   ],
   "source": [
    "# making a tuple using the user input\n",
    "\n",
    "t = tuple()\n",
    "\n",
    "for i in range(5):\n",
    "    X = int(input(\" Enter X = \"))\n",
    "    t = t + (X,)\n",
    "\n",
    "print(t)"
   ]
  },
  {
   "cell_type": "code",
   "execution_count": 10,
   "id": "b1533fd3-18c8-4e65-bb10-5eb7a68541d7",
   "metadata": {},
   "outputs": [
    {
     "name": "stdout",
     "output_type": "stream",
     "text": [
      "(1, 2, 3, 4, 3, 4, 5, 6, 7)\n",
      "(1, 2, 3, 4, 1, 2, 3, 4, 1, 2, 3, 4)\n"
     ]
    }
   ],
   "source": [
    "a = (1,2,3,4)\n",
    "b = (3,4,5,6,7)\n",
    "\n",
    "c = a + b\n",
    "d = a*3\n",
    "print (c)\n",
    "print(d)"
   ]
  },
  {
   "cell_type": "code",
   "execution_count": 12,
   "id": "2202a421-6cf6-47b2-8592-8d50688b1b8a",
   "metadata": {},
   "outputs": [
    {
     "name": "stdout",
     "output_type": "stream",
     "text": [
      "[3, 4, 5, 6, 7]\n",
      "(3, 5, 6, 7)\n"
     ]
    }
   ],
   "source": [
    "b = (3,4,5,6,7)\n",
    "c = list(b)\n",
    "print(c)\n",
    "del(c[1])\n",
    "\n",
    "d = tuple(c)\n",
    "\n",
    "print(d)\n"
   ]
  },
  {
   "cell_type": "code",
   "execution_count": null,
   "id": "8f1872d0-d536-44dc-a34e-5f0b7a62730f",
   "metadata": {},
   "outputs": [],
   "source": [
    "# min() max() sum()\n",
    "# index()\n",
    "# search()\n",
    "# for loop "
   ]
  }
 ],
 "metadata": {
  "kernelspec": {
   "display_name": "Python 3 (ipykernel)",
   "language": "python",
   "name": "python3"
  },
  "language_info": {
   "codemirror_mode": {
    "name": "ipython",
    "version": 3
   },
   "file_extension": ".py",
   "mimetype": "text/x-python",
   "name": "python",
   "nbconvert_exporter": "python",
   "pygments_lexer": "ipython3",
   "version": "3.11.7"
  }
 },
 "nbformat": 4,
 "nbformat_minor": 5
}
