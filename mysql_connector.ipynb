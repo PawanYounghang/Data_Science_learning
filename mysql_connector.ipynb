{
 "cells": [
  {
   "cell_type": "code",
   "execution_count": 1,
   "id": "e1b7a6ed-e073-426a-8d32-d6ca68673d70",
   "metadata": {},
   "outputs": [
    {
     "name": "stdout",
     "output_type": "stream",
     "text": [
      "Collecting mysql-connector-python\n",
      "  Downloading mysql_connector_python-8.3.0-cp311-cp311-win_amd64.whl.metadata (2.0 kB)\n",
      "Downloading mysql_connector_python-8.3.0-cp311-cp311-win_amd64.whl (15.4 MB)\n",
      "   ---------------------------------------- 0.0/15.4 MB ? eta -:--:--\n",
      "   ---------------------------------------- 0.0/15.4 MB ? eta -:--:--\n",
      "   ---------------------------------------- 0.0/15.4 MB 435.7 kB/s eta 0:00:36\n",
      "   ---------------------------------------- 0.1/15.4 MB 563.7 kB/s eta 0:00:28\n",
      "   ---------------------------------------- 0.2/15.4 MB 1.0 MB/s eta 0:00:16\n",
      "    --------------------------------------- 0.3/15.4 MB 1.5 MB/s eta 0:00:10\n",
      "   - -------------------------------------- 0.5/15.4 MB 2.1 MB/s eta 0:00:08\n",
      "   -- ------------------------------------- 1.0/15.4 MB 3.3 MB/s eta 0:00:05\n",
      "   ---- ----------------------------------- 1.8/15.4 MB 5.0 MB/s eta 0:00:03\n",
      "   ------- -------------------------------- 3.0/15.4 MB 7.7 MB/s eta 0:00:02\n",
      "   ------------ --------------------------- 4.8/15.4 MB 10.9 MB/s eta 0:00:01\n",
      "   --------------- ------------------------ 5.9/15.4 MB 11.7 MB/s eta 0:00:01\n",
      "   --------------------- ------------------ 8.4/15.4 MB 15.7 MB/s eta 0:00:01\n",
      "   --------------------------- ------------ 10.7/15.4 MB 29.7 MB/s eta 0:00:01\n",
      "   --------------------------------- ------ 12.9/15.4 MB 43.7 MB/s eta 0:00:01\n",
      "   --------------------------------- ------ 12.9/15.4 MB 36.4 MB/s eta 0:00:01\n",
      "   ----------------------------------- ---- 13.6/15.4 MB 34.4 MB/s eta 0:00:01\n",
      "   ----------------------------------- ---- 13.6/15.4 MB 34.4 MB/s eta 0:00:01\n",
      "   ----------------------------------- ---- 13.6/15.4 MB 34.4 MB/s eta 0:00:01\n",
      "   -------------------------------------- - 14.7/15.4 MB 24.2 MB/s eta 0:00:01\n",
      "   ---------------------------------------  15.4/15.4 MB 22.6 MB/s eta 0:00:01\n",
      "   ---------------------------------------  15.4/15.4 MB 22.6 MB/s eta 0:00:01\n",
      "   ---------------------------------------- 15.4/15.4 MB 20.5 MB/s eta 0:00:00\n",
      "Installing collected packages: mysql-connector-python\n",
      "Successfully installed mysql-connector-python-8.3.0\n"
     ]
    }
   ],
   "source": [
    "!pip install mysql-connector-python\n"
   ]
  },
  {
   "cell_type": "code",
   "execution_count": 3,
   "id": "0ef15ae7-aa31-46bb-865b-b2bb127abd31",
   "metadata": {},
   "outputs": [],
   "source": [
    "import mysql.connector \n",
    "#importing database\n",
    "\n",
    "database = mysql.connector.connect(\n",
    "    host = \"localhost\",\n",
    "    user = \"root\",\n",
    "    password = \"\",\n",
    "    database = \"import_export\"\n",
    ")\n",
    "\n",
    "db = database.cursor()"
   ]
  },
  {
   "cell_type": "code",
   "execution_count": 10,
   "id": "c63f518a-371b-4be9-b7de-67146efa8820",
   "metadata": {},
   "outputs": [
    {
     "name": "stdout",
     "output_type": "stream",
     "text": [
      "(1, 'Basmati Rice', 300, 4500, 56000.0, 'N/A')\n",
      "(3, 'Haryali Rice', 1000, 2545, 45008.0, 'have to ship in next 6 months')\n",
      "(4, 'Chattisgrah Basmati Rice', 11000, 2545, 45008.0, 'have to ship in next 6 months')\n",
      "(5, 'Pubjabi Gulzar Rice', 900, 2700, 65008.0, 'N/A')\n",
      "(6, 'Chattisgrah Rice', 600, 3100, 6169.0, '10% discount to be availed for new customers')\n",
      "(7, 'Pahade Rice', 1200, 4500, 75000.0, 'N/A')\n"
     ]
    }
   ],
   "source": [
    "#selecting all data \n",
    "db.execute(\"SELECT * FROM rice_import WHERE price>=2000\")\n",
    "result = db.fetchall()\n",
    "\n",
    "for i in result:\n",
    "    print(i)"
   ]
  },
  {
   "cell_type": "code",
   "execution_count": 14,
   "id": "365db663-9178-4354-9709-f38835f31b83",
   "metadata": {},
   "outputs": [],
   "source": [
    "#adding new rows in the database using jupyter\n",
    "sql = '''INSERT INTO rice_import(Name,Quantity,Price,total,remarks)\n",
    " VALUES (\"Chirakhe Rice\",5000,2300,78000,'N/A')'''\n",
    "db.execute(sql)\n",
    "database.commit()"
   ]
  },
  {
   "cell_type": "code",
   "execution_count": 16,
   "id": "88182690-33a5-410c-8ebd-9174210d1729",
   "metadata": {},
   "outputs": [],
   "source": [
    "#updating the existing values in the database\n",
    "sql = '''Update rice_import SET name = 'Chirikha rice' WHERE name = \"Chirakhe rice\"'''\n",
    "db.execute(sql)\n",
    "database.commit()"
   ]
  },
  {
   "cell_type": "code",
   "execution_count": 25,
   "id": "d47c4f47-da09-480c-bda6-4690211be7f6",
   "metadata": {},
   "outputs": [],
   "source": [
    "#deleting the existing values in the database\n",
    "sql = '''DELETE FROM rice_import WHERE SNo = 12'''\n",
    "db.execute(sql)\n",
    "database.commit()"
   ]
  },
  {
   "cell_type": "code",
   "execution_count": 33,
   "id": "6dd585aa-f9d8-4d93-af08-6a001266d4b1",
   "metadata": {},
   "outputs": [
    {
     "name": "stdout",
     "output_type": "stream",
     "text": [
      "Please specify if you are a new user\n"
     ]
    },
    {
     "name": "stdin",
     "output_type": "stream",
     "text": [
      "New or Old user ? NEW\n",
      "Rice name :  Jeera Rice\n",
      "Quantity :  1200\n",
      "Price :  4500\n",
      "Total :  90000\n",
      "Remarks :  N/A\n"
     ]
    }
   ],
   "source": [
    "#WAP programme to add the data from user into the database \n",
    "\n",
    "list = ['new','old']\n",
    "print(\"Please specify if you are a new user\")\n",
    "user = input(\"New or Old user ?\").lower()\n",
    "\n",
    "for i in list:\n",
    "    if user == list[0]:\n",
    "        name = input(\"Rice name : \")\n",
    "        quantity = int(input(\"Quantity : \"))\n",
    "        price = int(input(\"Price : \"))\n",
    "        total = int(input(\"Total : \"))\n",
    "        remarks = input(\"Remarks : \")\n",
    "        sql = f'''INSERT INTO rice_import (Name,Quantity,Price,total,remarks)\n",
    "         VALUES ('{name}',{quantity},{price},{total},'{remarks}')'''\n",
    "        db.execute(sql)\n",
    "        database.commit()\n",
    "        break\n",
    "    else:\n",
    "        print(\"Data already saved\")"
   ]
  },
  {
   "cell_type": "code",
   "execution_count": null,
   "id": "e9df956e-642c-46ff-96b2-73c8edd7fa7d",
   "metadata": {},
   "outputs": [],
   "source": []
  }
 ],
 "metadata": {
  "kernelspec": {
   "display_name": "Python 3 (ipykernel)",
   "language": "python",
   "name": "python3"
  },
  "language_info": {
   "codemirror_mode": {
    "name": "ipython",
    "version": 3
   },
   "file_extension": ".py",
   "mimetype": "text/x-python",
   "name": "python",
   "nbconvert_exporter": "python",
   "pygments_lexer": "ipython3",
   "version": "3.11.7"
  }
 },
 "nbformat": 4,
 "nbformat_minor": 5
}
