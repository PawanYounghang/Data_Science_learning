{
 "cells": [
  {
   "cell_type": "code",
   "execution_count": null,
   "id": "e28d8414-cd92-44cc-8421-c961e271ce55",
   "metadata": {},
   "outputs": [],
   "source": [
    "print(\"multiplicartion tables from 0 - 20 :\\n\\n\")\n",
    "i = 0\n",
    "for i in range(0,21):\n",
    "    print(\"Multiplication table for - \",i)\n",
    "    for j in range(1,11):\n",
    "        m = i * j \n",
    "        s = str(i) + \" X \" + str(j) + \"\\t --- \" + str(m) + \"\\n\"\n",
    "        print(s)\n",
    "        "
   ]
  },
  {
   "cell_type": "code",
   "execution_count": null,
   "id": "d46c61e9-6e9e-4ec1-92e4-1eff54b19aaa",
   "metadata": {},
   "outputs": [],
   "source": [
    "def print_square_pattern(size):\n",
    "    for i in range(size):\n",
    "        for j in range(size):\n",
    "            print(\"*\", end=\" \")\n",
    "        print()\n",
    "\n",
    "def print_triangle_pattern(size):\n",
    "    for i in range(1, size + 1):\n",
    "        for j in range(i):\n",
    "            print(\"*\", end=\" \")\n",
    "        print()\n",
    "\n",
    "def print_inverted_triangle_pattern(size):\n",
    "    for i in range(size, 0, -1):\n",
    "        for j in range(i):\n",
    "            print(\"*\", end=\" \")\n",
    "        print()\n",
    "\n",
    "def pattern_printer():\n",
    "    print(\"Pattern Printer\")\n",
    "    print(\"1. Square Pattern\")\n",
    "    print(\"2. Triangle Pattern\")\n",
    "    print(\"3. Inverted Triangle Pattern\")\n",
    "\n",
    "    choice = input(\"Enter your choice: \")\n",
    "\n",
    "    size = int(input(\"Enter the size of the pattern: \"))\n",
    "\n",
    "    if choice == '1':\n",
    "        print_square_pattern(size)\n",
    "    elif choice == '2':\n",
    "        print_triangle_pattern(size)\n",
    "    elif choice == '3':\n",
    "        print_inverted_triangle_pattern(size)\n",
    "    else:\n",
    "        print(\"Invalid choice. Please enter a valid option.\")\n",
    "\n",
    "# Run the program\n",
    "pattern_printer()\n"
   ]
  },
  {
   "cell_type": "code",
   "execution_count": 23,
   "id": "3734714a-6174-4d76-8be6-a1243d9eec14",
   "metadata": {},
   "outputs": [
    {
     "name": "stdin",
     "output_type": "stream",
     "text": [
      "Size = 3\n"
     ]
    },
    {
     "name": "stdout",
     "output_type": "stream",
     "text": [
      "* * * \n",
      "* * * \n",
      "* * * \n",
      "* \n",
      "* * \n",
      "* * * \n"
     ]
    },
    {
     "name": "stdin",
     "output_type": "stream",
     "text": [
      "Length of the Rectangle =  17\n",
      "Breadth of the Rectangle =  8\n"
     ]
    },
    {
     "name": "stdout",
     "output_type": "stream",
     "text": [
      "<> <> <> <> <> <> <> <> <> <> <> <> <> <> <> <> <> \n",
      "<> <> <> <> <> <> <> <> <> <> <> <> <> <> <> <> <> \n",
      "<> <> <> <> <> <> <> <> <> <> <> <> <> <> <> <> <> \n",
      "<> <> <> <> <> <> <> <> <> <> <> <> <> <> <> <> <> \n",
      "<> <> <> <> <> <> <> <> <> <> <> <> <> <> <> <> <> \n",
      "<> <> <> <> <> <> <> <> <> <> <> <> <> <> <> <> <> \n",
      "<> <> <> <> <> <> <> <> <> <> <> <> <> <> <> <> <> \n",
      "<> <> <> <> <> <> <> <> <> <> <> <> <> <> <> <> <> \n",
      "The area of the rectangle is =  136 square mtrs.\n"
     ]
    }
   ],
   "source": [
    "size = int(input(\"Size =\"))\n",
    "for i in range(size):\n",
    "        for j in range(size):\n",
    "            print(\"*\", end=\" \")\n",
    "        print()\n",
    "\n",
    "for i in range(1,size+1):\n",
    "        for j in range(i):\n",
    "            print(\"*\", end=\" \")\n",
    "        print()\n",
    "l = int(input(\"Length of the Rectangle = \"))\n",
    "b = int(input(\"Breadth of the Rectangle = \"))\n",
    "for i in range(b):\n",
    "    for j in range(l):\n",
    "        print(\"<>\", end=\" \")\n",
    "    print()\n",
    "print(\"The area of the rectangle is = \",int(l*b),\"square mtrs.\")"
   ]
  },
  {
   "cell_type": "code",
   "execution_count": 22,
   "id": "752d388b-77ff-44ce-89ab-52fe84a74010",
   "metadata": {},
   "outputs": [
    {
     "name": "stdin",
     "output_type": "stream",
     "text": [
      "Name :  Soniya rai \n",
      "Age :  17\n",
      "Email :  soniya@aol.com\n",
      "Gender :  f\n",
      "Address :  ibhang 6 ilam\n",
      "Education :  12th pass\n",
      "Name :  pawan limbu \n",
      "Age :  27\n",
      "Email :  milan@aol.com\n",
      "Gender :  m\n",
      "Address :  damak 1 Jhapa\n",
      "Education :  B tech in ME pass \n",
      "Name :  done\n"
     ]
    },
    {
     "name": "stdout",
     "output_type": "stream",
     "text": [
      "\n"
     ]
    }
   ],
   "source": [
    "import pandas\n",
    "\n",
    "data = []\n",
    "while True:\n",
    "    name = input(\"Name : \")\n",
    "    if name.lower() == \"done\":\n",
    "        break\n",
    "    age = int(input(\"Age : \"))\n",
    "    mail = input(\"Email : \")\n",
    "    gender = input(\"Gender : \")\n",
    "    address = input(\"Address : \")\n",
    "    education = input(\"Education : \")\n",
    "    data.append({'Name':name,'Age':age,'Email':mail,'Gender':gender,'Address':address, 'Education':education})\n",
    "print()\n",
    "\n",
    "df = pandas.DataFrame(data)\n",
    "\n",
    "output_file = 'output.xlsx'\n",
    "df.to_excel(output_file, index = True)"
   ]
  },
  {
   "cell_type": "code",
   "execution_count": null,
   "id": "e2bae7a6-a690-48dd-b215-f3c058df2fcf",
   "metadata": {},
   "outputs": [],
   "source": [
    "class BankAccount:\n",
    "    def __init__(self, name, balance=0):\n",
    "        self.name = name\n",
    "        self.balance = balance\n",
    "\n",
    "    def deposit(self, amount):\n",
    "        self.balance += amount\n",
    "        print(f\"Deposit of ${amount} successful. Current balance: ${self.balance}\")\n",
    "\n",
    "    def withdraw(self, amount):\n",
    "        if amount > self.balance:\n",
    "            print(\"Insufficient funds.\")\n",
    "        else:\n",
    "            self.balance -= amount\n",
    "            print(f\"Withdrawal of ${amount} successful. Current balance: ${self.balance}\")\n",
    "\n",
    "    def transfer(self, recipient, amount):\n",
    "        if amount > self.balance:\n",
    "            print(\"Insufficient funds.\")\n",
    "        else:\n",
    "            self.balance -= amount\n",
    "            recipient.balance += amount\n",
    "            print(f\"Transfer of ${amount} to {recipient.name} successful. Current balance: ${self.balance}\")\n",
    "\n",
    "def main():\n",
    "    accounts = {}  # Dictionary to store accounts\n",
    "\n",
    "    while True:\n",
    "        print(\"\\nWelcome to the Simple Banking System\")\n",
    "        print(\"1. Create Account\")\n",
    "        print(\"2. Balance Inquiry\")\n",
    "        print(\"3. Deposit\")\n",
    "        print(\"4. Withdraw\")\n",
    "        print(\"5. Transfer\")\n",
    "        print(\"6. Exit\")\n",
    "\n",
    "        choice = input(\"Enter your choice: \")\n",
    "\n",
    "        if choice == '1':\n",
    "            name = input(\"Enter your name: \")\n",
    "            initial_balance = float(input(\"Enter initial balance: \"))\n",
    "            accounts[name] = BankAccount(name, initial_balance)\n",
    "            print(\"Account created successfully.\")\n",
    "\n",
    "        elif choice == '2':\n",
    "            name = input(\"Enter your name: \")\n",
    "            if name in accounts:\n",
    "                print(f\"Balance for {name}: ${accounts[name].balance}\")\n",
    "            else:\n",
    "                print(\"Account not found.\")\n",
    "\n",
    "        elif choice == '3':\n",
    "            name = input(\"Enter your name: \")\n",
    "            if name in accounts:\n",
    "                amount = float(input(\"Enter amount to deposit: \"))\n",
    "                accounts[name].deposit(amount)\n",
    "            else:\n",
    "                print(\"Account not found.\")\n",
    "\n",
    "        elif choice == '4':\n",
    "            name = input(\"Enter your name: \")\n",
    "            if name in accounts:\n",
    "                amount = float(input(\"Enter amount to withdraw: \"))\n",
    "                accounts[name].withdraw(amount)\n",
    "            else:\n",
    "                print(\"Account not found.\")\n",
    "\n",
    "        elif choice == '5':\n",
    "            name = input(\"Enter your name: \")\n",
    "            recipient_name = input(\"Enter recipient's name: \")\n",
    "            if name in accounts and recipient_name in accounts:\n",
    "                amount = float(input(\"Enter amount to transfer: \"))\n",
    "                accounts[name].transfer(accounts[recipient_name], amount)\n",
    "            else:\n",
    "                print(\"One or both accounts not found.\")\n",
    "\n",
    "        elif choice == '6':\n",
    "            print(\"Exiting...\")\n",
    "            break\n",
    "\n",
    "        else:\n",
    "            print(\"Invalid choice.\")\n",
    "\n",
    "if __name__ == \"__main__\":\n",
    "    main()\n"
   ]
  },
  {
   "cell_type": "code",
   "execution_count": null,
   "id": "2292754d-9e5a-4707-b390-c1f716216eb9",
   "metadata": {},
   "outputs": [
    {
     "name": "stdout",
     "output_type": "stream",
     "text": [
      "\n",
      "Menu:\n",
      "1. Add Task\n",
      "2. View Tasks\n",
      "3. Mark Task as Completed\n",
      "4. Delete Task\n",
      "5. Exit\n"
     ]
    }
   ],
   "source": [
    "class TodoList:\n",
    "    def __init__(self):\n",
    "        self.tasks = []\n",
    "\n",
    "    def add_task(self, task):\n",
    "        self.tasks.append(task)\n",
    "        print(f'Task \"{task}\" added.')\n",
    "\n",
    "    def view_tasks(self):\n",
    "        if self.tasks:\n",
    "            print(\"Tasks:\")\n",
    "            for index, task in enumerate(self.tasks, start=1):\n",
    "                print(f\"{index}. {task}\")\n",
    "        else:\n",
    "            print(\"No tasks to display.\")\n",
    "\n",
    "    def mark_task_completed(self, index):\n",
    "        if 1 <= index <= len(self.tasks):\n",
    "            completed_task = self.tasks.pop(index - 1)\n",
    "            print(f'Task \"{completed_task}\" marked as completed.')\n",
    "        else:\n",
    "            print(\"Invalid task index.\")\n",
    "\n",
    "    def delete_task(self, index):\n",
    "        if 1 <= index <= len(self.tasks):\n",
    "            deleted_task = self.tasks.pop(index - 1)\n",
    "            print(f'Task \"{deleted_task}\" deleted.')\n",
    "        else:\n",
    "            print(\"Invalid task index.\")\n",
    "\n",
    "\n",
    "def main():\n",
    "    todo_list = TodoList()\n",
    "\n",
    "    while True:\n",
    "        print(\"\\nMenu:\")\n",
    "        print(\"1. Add Task\")\n",
    "        print(\"2. View Tasks\")\n",
    "        print(\"3. Mark Task as Completed\")\n",
    "        print(\"4. Delete Task\")\n",
    "        print(\"5. Exit\")\n",
    "\n",
    "        choice = input(\"Enter your choice: \")\n",
    "\n",
    "        if choice == \"1\":\n",
    "            task = input(\"Enter the task: \")\n",
    "            todo_list.add_task(task)\n",
    "        elif choice == \"2\":\n",
    "            todo_list.view_tasks()\n",
    "        elif choice == \"3\":\n",
    "            index = int(input(\"Enter the index of the task to mark as completed: \"))\n",
    "            todo_list.mark_task_completed(index)\n",
    "        elif choice == \"4\":\n",
    "            index = int(input(\"Enter the index of the task to delete: \"))\n",
    "            todo_list.delete_task(index)\n",
    "        elif choice == \"5\":\n",
    "            print(\"Exiting...\")\n",
    "            break\n",
    "        else:\n",
    "            print(\"Invalid choice. Please enter a number from 1 to 5.\")\n",
    "\n",
    "\n",
    "if __name__ == \"__main__\":\n",
    "    main()\n"
   ]
  },
  {
   "cell_type": "code",
   "execution_count": null,
   "id": "b5b9ee6b-c9b4-4bd1-a0ac-de69ed49b138",
   "metadata": {},
   "outputs": [],
   "source": [
    "import numpy as np\n",
    "np.__version__\n",
    "np?"
   ]
  },
  {
   "cell_type": "code",
   "execution_count": 36,
   "id": "e199aae9-32ba-45f8-98b1-deb3e3081553",
   "metadata": {},
   "outputs": [
    {
     "data": {
      "text/plain": [
       "[0, 1, 2, 3, 4, 5, 6, 7, 8, 9]"
      ]
     },
     "execution_count": 36,
     "metadata": {},
     "output_type": "execute_result"
    }
   ],
   "source": [
    "l = list(range(10))\n",
    "l"
   ]
  },
  {
   "cell_type": "code",
   "execution_count": 37,
   "id": "7d9fabd2-3034-437e-bde5-3ed32b4072f2",
   "metadata": {},
   "outputs": [
    {
     "data": {
      "text/plain": [
       "int"
      ]
     },
     "execution_count": 37,
     "metadata": {},
     "output_type": "execute_result"
    }
   ],
   "source": [
    "type(l[0])"
   ]
  },
  {
   "cell_type": "code",
   "execution_count": 38,
   "id": "cab6d0f3-a4f8-4ec2-bc53-ae21ff0b17fe",
   "metadata": {},
   "outputs": [
    {
     "data": {
      "text/plain": [
       "['0', '1', '2', '3', '4', '5', '6', '7', '8', '9']"
      ]
     },
     "execution_count": 38,
     "metadata": {},
     "output_type": "execute_result"
    }
   ],
   "source": [
    "l2 = [str(c) for c in l]\n",
    "l2"
   ]
  },
  {
   "cell_type": "code",
   "execution_count": 39,
   "id": "dddf3c6d-0587-465e-bbeb-7038cbc7e764",
   "metadata": {},
   "outputs": [
    {
     "data": {
      "text/plain": [
       "str"
      ]
     },
     "execution_count": 39,
     "metadata": {},
     "output_type": "execute_result"
    }
   ],
   "source": [
    "type(l2[0])"
   ]
  },
  {
   "cell_type": "code",
   "execution_count": 40,
   "id": "f41e051f-51ae-4008-8b46-c321cbaf2889",
   "metadata": {},
   "outputs": [
    {
     "name": "stdout",
     "output_type": "stream",
     "text": [
      "[0, 1, 2, 3, 4, 5, 6, 7, 8, 9, 10, 11]\n",
      "[ 0  1  2  3  4  5  6  7  8  9 10 11]\n"
     ]
    }
   ],
   "source": [
    "import numpy as np\n",
    "\n",
    "l = list(range(12))\n",
    "print(l)\n",
    "\n",
    "a = np.array(l)\n",
    "\n",
    "print(a)"
   ]
  },
  {
   "cell_type": "code",
   "execution_count": null,
   "id": "7d5a6485-3840-4bc7-854d-fe53eed45d19",
   "metadata": {},
   "outputs": [],
   "source": [
    "# Number guessing game \n",
    "# Write a program that generates a random number between a specified range and asks the user to guess it. \n",
    "# Provide hints (higher/lower) and allow the user to keep guessing until they get it right.\n",
    "\n",
    "import random as rd\n",
    "\n",
    "l = list(range(2,15))\n",
    "\n",
    "number = rd.choice(l)\n",
    "print(l)\n",
    "print(number)\n",
    "\n",
    "i = 0\n",
    "while i == 0:\n",
    "    p = int(input(\"Guess the number = \" ))\n",
    "    if p < number:\n",
    "        print(\"Cuess higher value\")\n",
    "    elif p > number:\n",
    "        print(\"Cuess lower value\")\n",
    "    else:\n",
    "        print(\"You have guessed the correct number!!\")\n",
    "        break\n",
    "\n",
    "\n"
   ]
  },
  {
   "cell_type": "code",
   "execution_count": null,
   "id": "af36e043-9a60-4631-80f9-190dd32d5860",
   "metadata": {},
   "outputs": [],
   "source": [
    "# Factorial Calculator:\n",
    "# Create a program that calculates the factorial of a given number using a loop. \n",
    "# Ask the user to input a number, then calculate and print its factorial.\n",
    "\n",
    "n = int(input(\"Enter the no = \"))\n",
    "factorial = 1\n",
    "for i in range(1,n+1):\n",
    "    factorial = factorial*i\n",
    "    print(f\"The factorial of {i} is {factorial}\")"
   ]
  },
  {
   "cell_type": "code",
   "execution_count": null,
   "id": "4852ecec-3337-4ad8-a590-e0e3e18ec5aa",
   "metadata": {},
   "outputs": [],
   "source": [
    "# Palindrome Checker:\n",
    "# Write a program that checks if a given string is a palindrome (reads the same forwards and backwards). \n",
    "# Use a loop to iterate through the characters of the string and if-else statements to perform the comparison.\n",
    "\n",
    "s = input(\"Enter the string = \")\n",
    "n = len(s)\n",
    "\n",
    "s = s.lower()\n",
    "s = s.replace(\" \",\"\")\n",
    "s = s.replace(\"?\",\"\")\n",
    "s = s.replace(\",\",\"\")\n",
    "s = s.replace(\".\",\"\")\n",
    "s = s.replace(\"!\",\"\")\n",
    "s = s.replace(\"’\",\"\")\n",
    "\n",
    "l1 = list(s)\n",
    "\n",
    "l2 = l1.copy()\n",
    "l2.reverse()\n",
    "\n",
    "print(l1)\n",
    "print(l2)\n",
    "\n",
    "if l1 == l2:\n",
    "    print(\"The given word is palindrome\")\n",
    "else:\n",
    "    print(\"The workd is not palindrome\")"
   ]
  },
  {
   "cell_type": "code",
   "execution_count": null,
   "id": "984526c6-fdae-4e0b-a27f-7b66525225ac",
   "metadata": {},
   "outputs": [],
   "source": [
    "# Prime Number Checker:\n",
    "# Develop a program that checks if a given number is prime or not. \n",
    "# Use a loop to test divisibility by numbers up to the square root of the given number, and use if-else statements to determine its primality.\n",
    "\n",
    "n = int(input(\"Enter the no = \"))\n",
    "j = float(n**0.5) + 1.0\n",
    "\n",
    "m =int(j)\n",
    "\n",
    "for i in range (2,m):\n",
    "    if n%i == 0:\n",
    "        print(f\"The number {n} is composite.\")\n",
    "        break\n",
    "else:\n",
    "    print(f\"The number {n} in prime.\")"
   ]
  },
  {
   "cell_type": "code",
   "execution_count": null,
   "id": "2635cdaf-e92d-4155-ac2c-a14dc5a75f94",
   "metadata": {},
   "outputs": [],
   "source": [
    "# Temperature Converter:\n",
    "# Write a program that converts temperatures between Celsius and Fahrenheit. \n",
    "# Allow the user to choose the conversion direction and use if-else statements to perform the conversion.\n",
    "\n",
    "\n",
    "\n",
    "def celcius_to_farenhiet(i):\n",
    "    farenhiet = (i * 9/5) + 32\n",
    "    return farenhiet\n",
    "\n",
    "def farenhiet_to_celcius(i):\n",
    "    celcius = (i-32)*(5/9) \n",
    "    return celcius\n",
    "\n",
    "print(\"Temperature conversion:\")\n",
    "print(\"1. Celcius to Farenhiet\")\n",
    "print(\"2. Farenhiet to Celcius\")\n",
    "n = int(input(\"Choose the option ___\"))\n",
    "\n",
    "if n == 1:\n",
    "    x = int(input(\"Celcius value = \"))\n",
    "    F = celcius_to_farenhiet(x)\n",
    "    print(F)\n",
    "elif n == 2:\n",
    "    x = int(input(\"Celcius value = \"))\n",
    "    C = farenhiet_to_celcius(x)\n",
    "    print(C)\n"
   ]
  },
  {
   "cell_type": "code",
   "execution_count": null,
   "id": "74bdc9b5-3927-4284-8b04-35f78f70115a",
   "metadata": {},
   "outputs": [],
   "source": [
    "# Vowel Counter:\n",
    "# Develop a program that counts the number of vowels in a given string. \n",
    "# Use a loop to iterate through the characters of the string and if-else statements to check if each character is a vowel.\n",
    "\n",
    "str = input(\"Enter the srting = \")\n",
    "s = str.lower()\n",
    "\n",
    "a = s.count('a')\n",
    "e = s.count('e')\n",
    "i = s.count('i')\n",
    "o = s.count('o')\n",
    "u = s.count('u')\n",
    "\n",
    "t = a+e+i+o+u\n",
    "\n",
    "print(t)"
   ]
  },
  {
   "cell_type": "code",
   "execution_count": null,
   "id": "323491e6-836d-444b-b513-b04d24cabfcb",
   "metadata": {},
   "outputs": [],
   "source": [
    "# Multiplication Table Generator:\n",
    "# Create a program that generates the multiplication table for a given number up to a specified range. \n",
    "# Use nested loops to generate each row and column of the table\n",
    "\n",
    "n = int(input(\"Enter the value of n = \"))\n",
    "r = int(input(\"The rage upto whioch the multiplication is wanted : \"))\n",
    "\n",
    "for i in range(1,r+1):\n",
    "    s = i*n\n",
    "    print(f\"{n} \\t X \\t {i} \\t = {s}\")"
   ]
  },
  {
   "cell_type": "code",
   "execution_count": null,
   "id": "31fc970e-c3fe-4cd1-bfc1-8c2e390648af",
   "metadata": {},
   "outputs": [],
   "source": [
    "# Largest Number Finder:\n",
    "# Write a program that finds the largest number among a given list of numbers. \n",
    "# Use a loop to iterate through the list and if-else statements to keep track of the largest number encountered so far.\n",
    "\n",
    "l = []\n",
    "len_l = 8\n",
    "n = len_l\n",
    "for i in range(8):\n",
    "    x = int(input(\"x : \"))\n",
    "    l.append(x)\n",
    "\n",
    "print(l)\n",
    "print(\"The highest valkue is :\",max(l))"
   ]
  },
  {
   "cell_type": "code",
   "execution_count": 16,
   "id": "f61d0d36-2308-47ff-9f8e-23540a2a8e65",
   "metadata": {},
   "outputs": [
    {
     "name": "stdin",
     "output_type": "stream",
     "text": [
      "Enter the value of n =  9\n"
     ]
    },
    {
     "name": "stdout",
     "output_type": "stream",
     "text": [
      "[0, 1, 1, 2, 3, 5, 8, 13, 21]\n"
     ]
    }
   ],
   "source": [
    "# Fibonacci Sequence Generator:\n",
    "# Create a program that generates the Fibonacci sequence up to a specified number of terms. \n",
    "# Use a loop to generate each term in the sequence and if-else statements to handle the first two terms.\n",
    "\n",
    "n = int(input(\"Enter the value of n = \"))\n",
    "\n",
    "\n",
    "sn = [0,1]\n",
    "\n",
    "if n == 1:\n",
    "    print(sn[0:1])\n",
    "\n",
    "elif n==2:\n",
    "    print(sn)\n",
    "\n",
    "else:\n",
    "    for i in range(2,n):\n",
    "        num = sn[i-2] + sn[i-1]\n",
    "        sn.append(num)\n",
    "    \n",
    "\n",
    "print(sn)\n"
   ]
  },
  {
   "cell_type": "code",
   "execution_count": null,
   "id": "26ef6f7f-c73e-405a-87cb-b11f4fc3c690",
   "metadata": {},
   "outputs": [],
   "source": [
    "# Password Strength Checker:\n",
    "# Develop a program that checks the strength of a given password. \n",
    "# Use if-else statements to analyze the length, presence of uppercase/lowercase letters, digits, and special characters.\n",
    "\n",
    "password = input(\"Password: \")\n",
    "\n",
    "while len(password) < 8:\n",
    "    print(\"Length too short\")\n",
    "    password = input(\"Password: \")\n",
    "    \n",
    "special_char = False\n",
    "upper_char = False\n",
    "lower_char = False\n",
    "number = False\n",
    "for char in password:\n",
    "    if char.isupper():\n",
    "        upper_char = True\n",
    "    elif  char.islower():\n",
    "        lower_char = True\n",
    "    elif char in '!@#$&*^-_/\\|%(){}[]?<>=+':\n",
    "        special_char = True\n",
    "    elif char in '1234567890':\n",
    "        number = True\n",
    "\n",
    "print(special_char)\n",
    "print(upper_char)\n",
    "print(lower_char)\n",
    "print(number)\n",
    "\n",
    "if special_char and upper_char and lower_char and number:\n",
    "    print(\"Password is very strong\")\n",
    "\n",
    "elif (special_char and upper_char and lower_char) or (special_char and upper_char and number) or (special_char and lower_char and number):\n",
    "    print(\"Password is strong\")\n",
    "    \n",
    "elif (special_char and lower_char) or (special_char and upper_char) or (special_char and number) or (upper_char and lower_char) or (upper_char and number) or (lower_char and number):\n",
    "    print(\"Password is weak\")\n",
    "\n",
    "else: \n",
    "    print(\"Password is very weak\")"
   ]
  },
  {
   "cell_type": "code",
   "execution_count": 32,
   "id": "6657a60e-9127-4a2a-bfc5-8d29a2550b37",
   "metadata": {},
   "outputs": [
    {
     "name": "stdout",
     "output_type": "stream",
     "text": [
      "     Unnamed: 0   Unnamed: 1                Unnamed: 2 Unnamed: 3 Unnamed: 4  \\\n",
      "0   SECTION - A  Basic info.               Particulars        NaN        NaN   \n",
      "1           NaN          NaN                     Class        NaN        NaN   \n",
      "2           NaN          NaN               Class - Div        NaN        NaN   \n",
      "3           NaN          NaN                      A.Y.        NaN        NaN   \n",
      "4           NaN          NaN  Exam conducted for marks        NaN        NaN   \n",
      "..          ...          ...                       ...        ...        ...   \n",
      "85          NaN          NaN                        56         ae         30   \n",
      "86          NaN          NaN                        57         af         20   \n",
      "87          NaN          NaN                        58         ag         10   \n",
      "88          NaN          NaN                        59         ah         90   \n",
      "89          NaN          NaN                        60         ai         60   \n",
      "\n",
      "   Unnamed: 5 Unnamed: 6 Unnamed: 7 Unnamed: 8 Unnamed: 9 Unnamed: 10  \\\n",
      "0     Details        NaN        NaN        NaN        NaN         NaN   \n",
      "1           5        NaN        NaN        NaN        NaN         NaN   \n",
      "2       5 - A        NaN        NaN        NaN        NaN         NaN   \n",
      "3   2019 - 20        NaN        NaN        NaN        NaN         NaN   \n",
      "4         100        NaN        NaN        NaN        NaN         NaN   \n",
      "..        ...        ...        ...        ...        ...         ...   \n",
      "85         30         30         30         30         30          30   \n",
      "86         20         20         20         20         20          20   \n",
      "87         10         10         10         10         10          10   \n",
      "88         90         90         90         90         90          90   \n",
      "89         60         60         60         60         60          60   \n",
      "\n",
      "   Unnamed: 11 Unnamed: 12 Unnamed: 13 Unnamed: 14 Unnamed: 15  \n",
      "0          NaN         NaN         NaN         NaN         NaN  \n",
      "1          NaN         NaN         NaN         NaN         NaN  \n",
      "2          NaN         NaN         NaN         NaN         NaN  \n",
      "3          NaN         NaN         NaN         NaN         NaN  \n",
      "4          NaN         NaN         NaN         NaN         NaN  \n",
      "..         ...         ...         ...         ...         ...  \n",
      "85          30          30          30         215        1178  \n",
      "86          20          20          20         216        1179  \n",
      "87          10          10          10         217        1180  \n",
      "88          90          90          90         218        1181  \n",
      "89          60          60          60         219        1182  \n",
      "\n",
      "[90 rows x 16 columns]\n"
     ]
    }
   ],
   "source": [
    "# Student Grade Tracker:\n",
    "# Write a program that keeps track of students' grades for multiple subjects. \n",
    "# Use a dictionary to store student names as keys and their corresponding grades as values. \n",
    "# Implement functionalities such as adding grades, calculating averages, and identifying top performers.\n",
    "\n",
    "import pandas as pd\n",
    "\n",
    "df = pd.read_excel(r\"C:\\Users\\pawan\\OneDrive\\Desktop\\report.xlsx\")\n",
    "\n",
    "print(df)"
   ]
  },
  {
   "cell_type": "code",
   "execution_count": null,
   "id": "9723cbd1-a3f3-4301-a3fc-a0c95531042d",
   "metadata": {},
   "outputs": [],
   "source": []
  }
 ],
 "metadata": {
  "kernelspec": {
   "display_name": "Python 3 (ipykernel)",
   "language": "python",
   "name": "python3"
  },
  "language_info": {
   "codemirror_mode": {
    "name": "ipython",
    "version": 3
   },
   "file_extension": ".py",
   "mimetype": "text/x-python",
   "name": "python",
   "nbconvert_exporter": "python",
   "pygments_lexer": "ipython3",
   "version": "3.11.7"
  }
 },
 "nbformat": 4,
 "nbformat_minor": 5
}
