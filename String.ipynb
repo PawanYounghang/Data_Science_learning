{
 "cells": [
  {
   "cell_type": "code",
   "execution_count": 2,
   "id": "afc58914-677e-411f-a4f4-9cd307e9be0d",
   "metadata": {},
   "outputs": [
    {
     "name": "stdout",
     "output_type": "stream",
     "text": [
      "<class 'str'>\n",
      "<class 'str'>\n",
      "<class 'str'>\n"
     ]
    }
   ],
   "source": [
    "a = 'Hello world'\n",
    "b = \"Hello world\"\n",
    "c = '''Hello world'''\n",
    "\n",
    "print(type(a))\n",
    "print(type(b))\n",
    "print(type(c))"
   ]
  },
  {
   "cell_type": "code",
   "execution_count": 4,
   "id": "57386729-ce2c-4e44-869b-75233c370028",
   "metadata": {},
   "outputs": [
    {
     "name": "stdout",
     "output_type": "stream",
     "text": [
      "hello\tworld\n",
      "hello\thello\t\n"
     ]
    }
   ],
   "source": [
    "a = 'hello\\t'\n",
    "b = 'world'\n",
    "print(a+b)\n",
    "print(a*2)"
   ]
  },
  {
   "cell_type": "code",
   "execution_count": 7,
   "id": "83357212-e2bb-489f-8da2-87c131fa8740",
   "metadata": {},
   "outputs": [
    {
     "name": "stdout",
     "output_type": "stream",
     "text": [
      "p\n",
      "y\n",
      "t\n",
      "h\n",
      "o\n",
      "n\n"
     ]
    }
   ],
   "source": [
    "a = 'python'\n",
    "l = len(a)\n",
    "for i in range(l):\n",
    "    print(a[i])"
   ]
  },
  {
   "cell_type": "code",
   "execution_count": 16,
   "id": "74499b67-01e6-4efb-9ddf-6b0931da6833",
   "metadata": {},
   "outputs": [
    {
     "name": "stdout",
     "output_type": "stream",
     "text": [
      "l\n",
      "h\n",
      "he\n",
      "hl\n",
      "olleh\n",
      "olle\n"
     ]
    }
   ],
   "source": [
    "a = 'hello'\n",
    "print(a[2])\n",
    "print(a[-5])\n",
    "print(a[0:2])\n",
    "print(a[0:4:2])\n",
    "print(a[::-1])\n",
    "print(a[-1:-5:-1])"
   ]
  },
  {
   "cell_type": "code",
   "execution_count": 17,
   "id": "be8ab471-4173-4c81-8de8-578318b04045",
   "metadata": {},
   "outputs": [
    {
     "name": "stdin",
     "output_type": "stream",
     "text": [
      "Enter name =  Pawan \n",
      "Enter age =  27\n",
      "Enter add =  Kathnmanbdu\n"
     ]
    },
    {
     "name": "stdout",
     "output_type": "stream",
     "text": [
      "I am Pawan . I am from Kathnmanbdu. I am 27 years old.\n"
     ]
    }
   ],
   "source": [
    "# string formatting \n",
    "\n",
    "name = input(\"Enter name = \")\n",
    "age = int(input(\"Enter age = \"))\n",
    "add = input(\"Enter add = \")\n",
    "\n",
    "info = f\"I am {name}. I am from {add}. I am {age} years old.\"\n",
    "print(info)"
   ]
  },
  {
   "cell_type": "code",
   "execution_count": 27,
   "id": "c5b1805b-7855-4d39-9a15-5f5ffac2d496",
   "metadata": {},
   "outputs": [
    {
     "name": "stdin",
     "output_type": "stream",
     "text": [
      "Enter the search value =  i\n"
     ]
    },
    {
     "name": "stdout",
     "output_type": "stream",
     "text": [
      "yes\n",
      "3\n"
     ]
    }
   ],
   "source": [
    "a = \"Ram hari shyam gita anit\".lower()\n",
    "search = input(\"Enter the search value = \").lower()\n",
    "if search in a:\n",
    "    print(\"yes\")\n",
    "    print(a.count(search))\n",
    "else:   \n",
    "    print(\"no\")"
   ]
  },
  {
   "cell_type": "code",
   "execution_count": 22,
   "id": "68213e28-2a6d-4ab7-80bb-2d948e352745",
   "metadata": {},
   "outputs": [
    {
     "name": "stdout",
     "output_type": "stream",
     "text": [
      "1\n"
     ]
    }
   ],
   "source": [
    "a = \"hello I am pawan\"\n",
    "search = \"hello\"\n",
    "\n",
    "print(a.count(search))\n",
    "    "
   ]
  },
  {
   "cell_type": "code",
   "execution_count": 29,
   "id": "c538a70c-c240-447a-a30e-e192a3242e5d",
   "metadata": {},
   "outputs": [
    {
     "name": "stdout",
     "output_type": "stream",
     "text": [
      "Rama hari shyam gita anit Ramaesh\n",
      "Rama  shyam gita anit Ramaesh\n"
     ]
    }
   ],
   "source": [
    "# replace\n",
    "\n",
    "a = \"Ram hari shyam gita anit Ramesh\"\n",
    "a = a.replace(\"Ram\",\"Rama\")\n",
    "\n",
    "print(a)\n",
    "\n",
    "a = a.replace(\"hari\",\"\")\n",
    "\n",
    "print(a)"
   ]
  },
  {
   "cell_type": "code",
   "execution_count": 2,
   "id": "d681d0b4-61ca-4ea3-8ac3-668ecba4b46f",
   "metadata": {},
   "outputs": [
    {
     "name": "stdout",
     "output_type": "stream",
     "text": [
      "['Ram', 'hari', 'shyam', 'gita', 'anit', 'Ramesh']\n"
     ]
    }
   ],
   "source": [
    "# split \n",
    "# it will create the list of the struing characters seperated by the space _\n",
    "\n",
    "a = \"Ram hari shyam gita anit Ramesh\"\n",
    "\n",
    "a.split()\n",
    "\n",
    "print(a.split())"
   ]
  }
 ],
 "metadata": {
  "kernelspec": {
   "display_name": "Python 3 (ipykernel)",
   "language": "python",
   "name": "python3"
  },
  "language_info": {
   "codemirror_mode": {
    "name": "ipython",
    "version": 3
   },
   "file_extension": ".py",
   "mimetype": "text/x-python",
   "name": "python",
   "nbconvert_exporter": "python",
   "pygments_lexer": "ipython3",
   "version": "3.11.7"
  }
 },
 "nbformat": 4,
 "nbformat_minor": 5
}
