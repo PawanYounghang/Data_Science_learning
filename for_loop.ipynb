{
 "cells": [
  {
   "cell_type": "code",
   "execution_count": 4,
   "id": "e85d52a5-e63b-45e1-a7ad-c6a2e3ed03da",
   "metadata": {},
   "outputs": [
    {
     "name": "stdout",
     "output_type": "stream",
     "text": [
      "H^^e^^l^^l^^o^^ ^^W^^o^^r^^l^^d^^"
     ]
    }
   ],
   "source": [
    "a = \"Hello World\"\n",
    "for i in a:\n",
    "    print(i, end=\"^^\")"
   ]
  },
  {
   "cell_type": "code",
   "execution_count": 6,
   "id": "8d21a7fa-295b-4629-bf5d-7419ac94cc6c",
   "metadata": {},
   "outputs": [
    {
     "name": "stdout",
     "output_type": "stream",
     "text": [
      "H_e_l_l_o_W_o_r_l_d_"
     ]
    }
   ],
   "source": [
    "a = \"Hello World\"\n",
    "for i in a:\n",
    "    if i != ' ':\n",
    "        print(i, end=\"_\")"
   ]
  },
  {
   "cell_type": "code",
   "execution_count": 9,
   "id": "78819dd9-2292-4d62-a207-04cb0c2f6a49",
   "metadata": {},
   "outputs": [
    {
     "name": "stdout",
     "output_type": "stream",
     "text": [
      "Hello World I am python"
     ]
    }
   ],
   "source": [
    "a = \"Hello World! I am python\"\n",
    "for i in a:\n",
    "    if i != '.' and i !='!':\n",
    "        print(i, end=\"\")"
   ]
  },
  {
   "cell_type": "code",
   "execution_count": null,
   "id": "68adf710-5015-478e-849a-cb726d2827b5",
   "metadata": {},
   "outputs": [],
   "source": [
    "#Control statements \n",
    "#continue\n",
    "#pass\n",
    "#break"
   ]
  },
  {
   "cell_type": "code",
   "execution_count": 11,
   "id": "acb8f36a-faf9-4471-a3e2-e66e3b22e579",
   "metadata": {},
   "outputs": [
    {
     "name": "stdout",
     "output_type": "stream",
     "text": [
      "0 1 2 3 4 "
     ]
    }
   ],
   "source": [
    "for i in range(10):\n",
    "    if i == 5:\n",
    "        break\n",
    "    else:\n",
    "        print(i, end = \" \")"
   ]
  },
  {
   "cell_type": "code",
   "execution_count": 12,
   "id": "2ba37f17-ad90-4657-a366-d746c489e1c1",
   "metadata": {},
   "outputs": [
    {
     "name": "stdout",
     "output_type": "stream",
     "text": [
      "0 1 2 3 4 6 7 8 9 "
     ]
    }
   ],
   "source": [
    "for i in range(10):\n",
    "    if i == 5:\n",
    "        continue\n",
    "    else:\n",
    "        print(i, end = \" \")"
   ]
  },
  {
   "cell_type": "code",
   "execution_count": 13,
   "id": "04c3951d-f320-4f41-afa3-f3c1306ad521",
   "metadata": {},
   "outputs": [
    {
     "name": "stdout",
     "output_type": "stream",
     "text": [
      "0 1 2 3 4 6 7 8 9 "
     ]
    }
   ],
   "source": [
    "for i in range(10):\n",
    "    if i == 5:\n",
    "        pass\n",
    "    else:\n",
    "        print(i, end = \" \")"
   ]
  },
  {
   "cell_type": "code",
   "execution_count": 14,
   "id": "3827b5c4-6491-4366-bcca-a262b6b287b3",
   "metadata": {},
   "outputs": [],
   "source": [
    "a = 10\n",
    "if a >5:\n",
    "    pass"
   ]
  },
  {
   "cell_type": "code",
   "execution_count": 23,
   "id": "dbac6f44-5849-4fc5-ad0f-3ceab906cbaf",
   "metadata": {},
   "outputs": [
    {
     "name": "stdout",
     "output_type": "stream",
     "text": [
      "H e l l o   W o r l d "
     ]
    }
   ],
   "source": [
    "a = \"Hello World. I am Python\"\n",
    "for i in a:\n",
    "    if i == \".\":\n",
    "        break\n",
    "    print(i,end=\" \")\n",
    "        "
   ]
  },
  {
   "cell_type": "code",
   "execution_count": null,
   "id": "7ac40a09-4b1c-4a1a-9321-d132404c45fa",
   "metadata": {},
   "outputs": [],
   "source": [
    "# WAP to detect if the given no is prime or composite\n",
    "# prime -> 2,3,5,7,11,13,17 \n",
    "# composite no -> 4,6,8,9,10,12"
   ]
  },
  {
   "cell_type": "code",
   "execution_count": 12,
   "id": "c518e9a2-a354-4b7c-9e40-5541cdad3dc4",
   "metadata": {},
   "outputs": [
    {
     "name": "stdin",
     "output_type": "stream",
     "text": [
      "Enter the value of n: 50\n"
     ]
    },
    {
     "name": "stdout",
     "output_type": "stream",
     "text": [
      "The prime numbers and composite numbers between the range: 1- 50\n",
      "prime numbers -- [2, 3, 5, 7, 11, 13, 17, 19, 23, 29, 31, 37, 41, 43, 47]\n",
      "composite numbers -- [4, 6, 8, 9, 10, 12, 14, 15, 16, 18, 20, 21, 22, 24, 25, 26, 27, 28, 30, 32, 33, 34, 35, 36, 38, 39, 40, 42, 44, 45, 46, 48, 49, 50]\n"
     ]
    }
   ],
   "source": [
    "prime = []\n",
    "composite = []\n",
    "n = int(input(\"Enter the value of n:\"))\n",
    "print(\"The prime numbers and composite numbers between the range: 1-\",n)\n",
    "for i in range(2,n+1):\n",
    "    is_prime = True\n",
    "    for j in range(2,i):\n",
    "        if i%j == 0:\n",
    "            is_prime = False\n",
    "            composite.append(i)\n",
    "            break\n",
    "    if is_prime == True:\n",
    "        prime.append(i)\n",
    "        \n",
    "print(\"prime numbers --\", prime)\n",
    "print(\"composite numbers --\", composite)"
   ]
  },
  {
   "cell_type": "code",
   "execution_count": 30,
   "id": "321f45ee-0f0e-4ba8-ab0c-d2a9bbb145c4",
   "metadata": {},
   "outputs": [
    {
     "name": "stdin",
     "output_type": "stream",
     "text": [
      "Enter the value =  47\n"
     ]
    },
    {
     "name": "stdout",
     "output_type": "stream",
     "text": [
      "47  is a prime number\n"
     ]
    }
   ],
   "source": [
    "n = int(input(\"Enter the value = \"))\n",
    "is_prime = True\n",
    "for i in range(2,n):\n",
    "    if n%i == 0:\n",
    "        is_prime = False\n",
    "        print(n,\" is a composite number\")\n",
    "        break\n",
    "if is_prime == True:\n",
    "    print(n,\" is a prime number\")"
   ]
  },
  {
   "cell_type": "code",
   "execution_count": null,
   "id": "9dfff874-2579-44f4-b86a-4e630e3f139e",
   "metadata": {},
   "outputs": [],
   "source": []
  }
 ],
 "metadata": {
  "kernelspec": {
   "display_name": "Python 3 (ipykernel)",
   "language": "python",
   "name": "python3"
  },
  "language_info": {
   "codemirror_mode": {
    "name": "ipython",
    "version": 3
   },
   "file_extension": ".py",
   "mimetype": "text/x-python",
   "name": "python",
   "nbconvert_exporter": "python",
   "pygments_lexer": "ipython3",
   "version": "3.11.7"
  }
 },
 "nbformat": 4,
 "nbformat_minor": 5
}
