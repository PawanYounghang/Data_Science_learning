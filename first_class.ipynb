{
 "cells": [
  {
   "cell_type": "code",
   "execution_count": 2,
   "id": "7f02796e-279f-4104-8409-2d3da4501fad",
   "metadata": {},
   "outputs": [
    {
     "name": "stdout",
     "output_type": "stream",
     "text": [
      "hello\n"
     ]
    }
   ],
   "source": [
    "print(\"hello\")"
   ]
  },
  {
   "cell_type": "code",
   "execution_count": 3,
   "id": "3b9de32f-be9f-4051-9991-4b83dde765b9",
   "metadata": {},
   "outputs": [
    {
     "name": "stdout",
     "output_type": "stream",
     "text": [
      "1\n",
      "2\n",
      "1\n",
      "0\n"
     ]
    }
   ],
   "source": [
    "# boolean value \n",
    "a = True\n",
    "b = False \n",
    "e = True\n",
    "c = a+b\n",
    "d = a+e\n",
    "\n",
    "print(c)\n",
    "print(d)\n",
    "print(a*e)\n",
    "print(a*b)"
   ]
  },
  {
   "cell_type": "code",
   "execution_count": 5,
   "id": "3bc6bfb6-8bef-4ddd-bdb4-1b13b1789f6b",
   "metadata": {},
   "outputs": [
    {
     "name": "stdout",
     "output_type": "stream",
     "text": [
      "<class 'complex'>\n"
     ]
    }
   ],
   "source": [
    "#complex numbers in python\n",
    "a = 2+3j\n",
    "print(type(a))"
   ]
  },
  {
   "cell_type": "code",
   "execution_count": 8,
   "id": "485e1cd5-c2d6-4fa5-b325-fa3f540dae4c",
   "metadata": {},
   "outputs": [
    {
     "name": "stdout",
     "output_type": "stream",
     "text": [
      "10.0\n"
     ]
    },
    {
     "data": {
      "text/plain": [
       "'10'"
      ]
     },
     "execution_count": 8,
     "metadata": {},
     "output_type": "execute_result"
    }
   ],
   "source": [
    "#int() float() bool()\n",
    "a = 10 \n",
    "print(float(a))\n",
    "b = str(a)\n",
    "b "
   ]
  },
  {
   "cell_type": "code",
   "execution_count": 11,
   "id": "4483507c-38e9-4e7f-babf-2840ade31996",
   "metadata": {},
   "outputs": [
    {
     "name": "stdout",
     "output_type": "stream",
     "text": [
      "10\n"
     ]
    }
   ],
   "source": [
    "a = 10.5\n",
    "b = int(a)\n",
    "print(b)"
   ]
  },
  {
   "cell_type": "code",
   "execution_count": 12,
   "id": "842957bc-7140-4c76-bca5-6befcbae56f9",
   "metadata": {},
   "outputs": [
    {
     "name": "stdout",
     "output_type": "stream",
     "text": [
      "True\n"
     ]
    }
   ],
   "source": [
    "a = 10.6\n",
    "b = bool(a)\n",
    "print(b)"
   ]
  },
  {
   "cell_type": "code",
   "execution_count": 20,
   "id": "6f84a81e-0578-4099-bee3-f5508cfd1764",
   "metadata": {},
   "outputs": [
    {
     "name": "stdin",
     "output_type": "stream",
     "text": [
      "Enter the value of a: 10\n",
      "Value of b : 10\n"
     ]
    },
    {
     "name": "stdout",
     "output_type": "stream",
     "text": [
      "<class 'int'>\n"
     ]
    }
   ],
   "source": [
    "#input \n",
    "a = int(input(\"Enter the value of a:\"))\n",
    "b = int(input( \"Value of b :\"))\n",
    "print(type(a))"
   ]
  },
  {
   "cell_type": "code",
   "execution_count": 22,
   "id": "b96159e8-ecc2-4823-9955-67e3bf6e428b",
   "metadata": {},
   "outputs": [
    {
     "name": "stdin",
     "output_type": "stream",
     "text": [
      " P =  100000\n",
      " T =  2\n",
      " R =  10\n"
     ]
    },
    {
     "name": "stdout",
     "output_type": "stream",
     "text": [
      "The value of I = 20000.0\n"
     ]
    }
   ],
   "source": [
    "p = float(input(\" P = \"))\n",
    "t = float(input(\" T = \"))\n",
    "r = float(input(\" R = \"))\n",
    "\n",
    "i = (p*t*r)/100\n",
    "\n",
    "print(\"The value of I =\",i)"
   ]
  },
  {
   "cell_type": "code",
   "execution_count": 26,
   "id": "8e1ed72d-3665-4c98-8fde-b71c387b300c",
   "metadata": {},
   "outputs": [
    {
     "name": "stdin",
     "output_type": "stream",
     "text": [
      "Name = Pawan \n",
      "age = 27\n",
      "Address = Ktm\n"
     ]
    },
    {
     "name": "stdout",
     "output_type": "stream",
     "text": [
      "Hello world I am Pawan . I am from Ktm. I am 27\n"
     ]
    }
   ],
   "source": [
    "name = input(\"Name =\")\n",
    "age = int(input(\"age =\"))\n",
    "Add = input(\"Address =\")\n",
    "\n",
    "info = \"Hello world I am \" + name + \". I am from \" + Add + \". I am \" + str(age)\n",
    "print(info)"
   ]
  },
  {
   "cell_type": "code",
   "execution_count": null,
   "id": "0974a379-cd85-47ec-9a1f-812681b181aa",
   "metadata": {},
   "outputs": [],
   "source": []
  }
 ],
 "metadata": {
  "kernelspec": {
   "display_name": "Python 3 (ipykernel)",
   "language": "python",
   "name": "python3"
  },
  "language_info": {
   "codemirror_mode": {
    "name": "ipython",
    "version": 3
   },
   "file_extension": ".py",
   "mimetype": "text/x-python",
   "name": "python",
   "nbconvert_exporter": "python",
   "pygments_lexer": "ipython3",
   "version": "3.11.7"
  }
 },
 "nbformat": 4,
 "nbformat_minor": 5
}
