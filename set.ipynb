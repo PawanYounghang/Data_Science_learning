{
 "cells": [
  {
   "cell_type": "code",
   "execution_count": 1,
   "id": "457dd680-70f1-4dad-9788-b0de7519550f",
   "metadata": {},
   "outputs": [],
   "source": [
    "# set \n",
    "# no indexing \n",
    "# multiple but no duplicate value\n",
    "# unordered\n",
    "# mutable"
   ]
  },
  {
   "cell_type": "code",
   "execution_count": 2,
   "id": "b672e199-c14a-4a69-880a-f47af3adfe72",
   "metadata": {},
   "outputs": [],
   "source": [
    "s = set()"
   ]
  },
  {
   "cell_type": "code",
   "execution_count": 3,
   "id": "fe1a7f89-8324-4a61-ac82-8e0a03699211",
   "metadata": {},
   "outputs": [
    {
     "name": "stdout",
     "output_type": "stream",
     "text": [
      "<class 'set'>\n"
     ]
    }
   ],
   "source": [
    "s = {1,2,3,4,5,6,7}\n",
    "print(type(s))"
   ]
  },
  {
   "cell_type": "code",
   "execution_count": 5,
   "id": "0481edbe-ad05-420b-a957-fd8ddea05b96",
   "metadata": {},
   "outputs": [
    {
     "name": "stdout",
     "output_type": "stream",
     "text": [
      "{1, 2, 3, 4, 5, 6, 7, 8}\n"
     ]
    }
   ],
   "source": [
    "s = {1,2,3,4,5,6,7,7,8}\n",
    "print(s)"
   ]
  },
  {
   "cell_type": "code",
   "execution_count": 7,
   "id": "9b3e1cb5-870f-431f-8e2d-e1f5d2d9fdc4",
   "metadata": {},
   "outputs": [
    {
     "name": "stdout",
     "output_type": "stream",
     "text": [
      "{'appl', 'car', 'cat', 'ball'}\n"
     ]
    }
   ],
   "source": [
    "a = {'ball','appl','cat','car'}\n",
    "print(a)"
   ]
  },
  {
   "cell_type": "code",
   "execution_count": 8,
   "id": "ace6f484-1380-44ae-80e2-3c256efaeaf9",
   "metadata": {},
   "outputs": [
    {
     "name": "stdout",
     "output_type": "stream",
     "text": [
      "{'wer', 'apple', 2}\n"
     ]
    }
   ],
   "source": [
    "s = set()\n",
    "s.add('apple')\n",
    "s.add(2)\n",
    "s.add('wer')\n",
    "\n",
    "print(s)"
   ]
  },
  {
   "cell_type": "code",
   "execution_count": 9,
   "id": "5dd79f92-674b-427f-91b1-1c5b5e092365",
   "metadata": {},
   "outputs": [
    {
     "name": "stdout",
     "output_type": "stream",
     "text": [
      "{'appl', 'car', 'cat'}\n"
     ]
    }
   ],
   "source": [
    "a = {'ball','appl','cat','car'}\n",
    "a.remove('ball')\n",
    "print(a)"
   ]
  },
  {
   "cell_type": "code",
   "execution_count": 10,
   "id": "49dc1cf5-9699-4782-b288-f9088a2102a2",
   "metadata": {},
   "outputs": [
    {
     "name": "stdout",
     "output_type": "stream",
     "text": [
      "{1, 2, 3, 4, 5, 6, 7}\n"
     ]
    }
   ],
   "source": [
    "a = {1,2,3,4}\n",
    "b = {4,5,6,7}\n",
    "\n",
    "a.update(b)\n",
    "\n",
    "print(a)"
   ]
  },
  {
   "cell_type": "code",
   "execution_count": 14,
   "id": "180680ed-4897-476e-9180-8d54196818ee",
   "metadata": {},
   "outputs": [
    {
     "name": "stdout",
     "output_type": "stream",
     "text": [
      "{'shyam', 'janu', 'ram', 'gita', 'sita'}\n",
      "{'janu'}\n"
     ]
    }
   ],
   "source": [
    "#union\n",
    "\n",
    "a = {\"ram\",\"shyam\",'janu'}\n",
    "b = {\"sita\",\"gita\",'janu'}\n",
    "\n",
    "u = a.union(b)  \n",
    "i = a.intersection(b)\n",
    "print(c)\n",
    "print(i)"
   ]
  },
  {
   "cell_type": "code",
   "execution_count": 15,
   "id": "77ccae82-5b7e-473c-af6d-9fa74aee0293",
   "metadata": {},
   "outputs": [
    {
     "name": "stdout",
     "output_type": "stream",
     "text": [
      "{'ram', 'shyam'}\n"
     ]
    }
   ],
   "source": [
    "#difference\n",
    "\n",
    "a = {\"ram\",\"shyam\",'janu'}\n",
    "b = {\"sita\",\"gita\",'janu'}\n",
    "\n",
    "d = a.difference(b)\n",
    "\n",
    "print(d)"
   ]
  },
  {
   "cell_type": "code",
   "execution_count": 17,
   "id": "e168e36c-3fe7-4bf1-8eae-fd7519baccfe",
   "metadata": {},
   "outputs": [
    {
     "name": "stdout",
     "output_type": "stream",
     "text": [
      "True\n",
      "True\n"
     ]
    }
   ],
   "source": [
    "# subsets and supersets \n",
    "\n",
    "a = {1,2,3,4,5,6,7,8}\n",
    "b = {1,2,3,4}\n",
    "\n",
    "print(a.issuperset(b))\n",
    "print(b.issubset(a))"
   ]
  },
  {
   "cell_type": "code",
   "execution_count": null,
   "id": "7d8e0367-8855-487b-baf0-f47ca0780e20",
   "metadata": {},
   "outputs": [],
   "source": []
  }
 ],
 "metadata": {
  "kernelspec": {
   "display_name": "Python 3 (ipykernel)",
   "language": "python",
   "name": "python3"
  },
  "language_info": {
   "codemirror_mode": {
    "name": "ipython",
    "version": 3
   },
   "file_extension": ".py",
   "mimetype": "text/x-python",
   "name": "python",
   "nbconvert_exporter": "python",
   "pygments_lexer": "ipython3",
   "version": "3.11.7"
  }
 },
 "nbformat": 4,
 "nbformat_minor": 5
}
