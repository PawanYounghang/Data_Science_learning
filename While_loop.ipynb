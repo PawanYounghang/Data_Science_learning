{
 "cells": [
  {
   "cell_type": "code",
   "execution_count": null,
   "id": "f3216ec5-78c8-4d5a-b95e-75604a6b7de1",
   "metadata": {},
   "outputs": [],
   "source": [
    "#while loop"
   ]
  },
  {
   "cell_type": "code",
   "execution_count": null,
   "id": "09b41c80-cee2-4014-8eab-23e76bbcd25f",
   "metadata": {},
   "outputs": [],
   "source": [
    "# while <condition>:\n",
    "#    <operation>"
   ]
  },
  {
   "cell_type": "code",
   "execution_count": 4,
   "id": "dad86f3a-5299-42e9-b66f-f25a0a501fdf",
   "metadata": {},
   "outputs": [
    {
     "name": "stdout",
     "output_type": "stream",
     "text": [
      "0 MOther Teresa\n",
      "1 MOther Teresa\n",
      "2 MOther Teresa\n",
      "3 MOther Teresa\n",
      "4 MOther Teresa\n",
      "5 MOther Teresa\n"
     ]
    }
   ],
   "source": [
    "a = 0\n",
    "while a <= 5:\n",
    "    print(a,\"MOther Teresa\")\n",
    "    a = a + 1"
   ]
  },
  {
   "cell_type": "code",
   "execution_count": 5,
   "id": "ab802e86-9ab6-4a7c-bee6-238bfd95273f",
   "metadata": {},
   "outputs": [
    {
     "name": "stdout",
     "output_type": "stream",
     "text": [
      "1 MOther Teresa\n",
      "3 MOther Teresa\n",
      "5 MOther Teresa\n",
      "7 MOther Teresa\n",
      "9 MOther Teresa\n"
     ]
    }
   ],
   "source": [
    "a = 1\n",
    "while a <= 10:\n",
    "    print(a,\"MOther Teresa\")\n",
    "    a = a + 2"
   ]
  },
  {
   "cell_type": "code",
   "execution_count": 7,
   "id": "dbd54510-4c8f-4bc9-bc73-9d9105d78e26",
   "metadata": {},
   "outputs": [
    {
     "name": "stdin",
     "output_type": "stream",
     "text": [
      "Enter = X  1000\n",
      "Enter = X  2000\n",
      "Enter = X  3000\n",
      "Enter = X  4000\n",
      "Enter = X  5000\n"
     ]
    },
    {
     "name": "stdout",
     "output_type": "stream",
     "text": [
      "15000\n"
     ]
    }
   ],
   "source": [
    "s = 0\n",
    "n = 5 \n",
    "for i in range(n):\n",
    "    x = int(input(\"Enter = X \"))\n",
    "    s = s + x\n",
    "print(s)"
   ]
  },
  {
   "cell_type": "code",
   "execution_count": 8,
   "id": "06db22d6-84b8-471a-b7e4-f1fa97a9d94a",
   "metadata": {},
   "outputs": [
    {
     "name": "stdin",
     "output_type": "stream",
     "text": [
      "Enter X =  1000\n",
      "Enter X =  2000\n",
      "Enter X =  3000\n",
      "Enter X =  4000\n",
      "Enter X =  5000\n"
     ]
    },
    {
     "name": "stdout",
     "output_type": "stream",
     "text": [
      "15000\n"
     ]
    }
   ],
   "source": [
    "s = 0 \n",
    "n = 5 \n",
    "i = 0\n",
    "while i < 5 :\n",
    "    x = int(input(\"Enter X = \"))\n",
    "    s = s + x\n",
    "    i +=1\n",
    "\n",
    "print(s)"
   ]
  },
  {
   "cell_type": "code",
   "execution_count": 10,
   "id": "e81c78fc-2ba8-4099-b2c0-a56ba9fa0349",
   "metadata": {},
   "outputs": [
    {
     "name": "stdin",
     "output_type": "stream",
     "text": [
      "Enter n =  2\n",
      "Enter name = Pawan\n",
      "Phone no = 9805922673\n",
      "Enter name = Ronisha\n",
      "Phone no = 9805674523\n"
     ]
    },
    {
     "name": "stdout",
     "output_type": "stream",
     "text": [
      "Pawan 9805922673\n",
      "Ronisha 9805674523\n",
      "\n"
     ]
    }
   ],
   "source": [
    "s = str()\n",
    "n = int(input(\"Enter n = \"))\n",
    "for i in range(n):\n",
    "    name = input(\"Enter name =\")\n",
    "    phone = input(\"Phone no =\")\n",
    "    s = s + name + \" \" + phone + \"\\n\"\n",
    "\n",
    "print(s)"
   ]
  },
  {
   "cell_type": "code",
   "execution_count": 11,
   "id": "e669f636-e5ab-407d-a5df-caab24c6677f",
   "metadata": {},
   "outputs": [
    {
     "name": "stdin",
     "output_type": "stream",
     "text": [
      "Enter n = 2\n",
      "Enter name --  Pawan\n",
      "Enter phone -- 9805922673\n",
      "Enter name --  Ronisha\n",
      "Enter phone -- 8790785634\n"
     ]
    },
    {
     "name": "stdout",
     "output_type": "stream",
     "text": [
      "Pawan 9805922673\n",
      "Ronisha 8790785634\n",
      "\n"
     ]
    }
   ],
   "source": [
    "s = str()\n",
    "n = int(input(\"Enter n =\"))\n",
    "i = 0\n",
    "while i < n:\n",
    "    name = input(\"Enter name -- \")\n",
    "    phone = input(\"Enter phone --\")\n",
    "    s = s + name + \" \" + phone + \"\\n\"\n",
    "    i +=1\n",
    "print(s)"
   ]
  },
  {
   "cell_type": "code",
   "execution_count": 1,
   "id": "f6fef7a6-aae1-40a2-ae89-c8dec4e760e4",
   "metadata": {},
   "outputs": [
    {
     "name": "stdout",
     "output_type": "stream",
     "text": [
      "0 1 2 3 4 "
     ]
    }
   ],
   "source": [
    "i = 0 \n",
    "n = 10 \n",
    "while i<n:\n",
    "    if i == 5:\n",
    "        break\n",
    "    print(i, end =\" \")\n",
    "    i += 1"
   ]
  },
  {
   "cell_type": "code",
   "execution_count": 1,
   "id": "4db30560-6ba0-4618-9261-f4e8480dd474",
   "metadata": {},
   "outputs": [
    {
     "name": "stdout",
     "output_type": "stream",
     "text": [
      "0 1 2 3 4 6 7 8 9 "
     ]
    }
   ],
   "source": [
    "i = 0 \n",
    "n = 10 \n",
    "while i<n:\n",
    "    if i == 5:\n",
    "        i += 1\n",
    "        continue\n",
    "    print(i, end =\" \")\n",
    "    i = i + 1"
   ]
  },
  {
   "cell_type": "code",
   "execution_count": 5,
   "id": "d50a700a-6f05-4bc7-a05f-1c8f440faef0",
   "metadata": {},
   "outputs": [
    {
     "name": "stdin",
     "output_type": "stream",
     "text": [
      "Enter a number:  10\n"
     ]
    },
    {
     "name": "stdout",
     "output_type": "stream",
     "text": [
      "The number is composite\n"
     ]
    }
   ],
   "source": [
    "num = int(input(\"Enter a number: \"))\n",
    "for i in range(2, num):\n",
    "    if num % i == 0:\n",
    "        print(\"The number is composite\")\n",
    "        break\n",
    "else:\n",
    "    print(\"The number is prime\")"
   ]
  },
  {
   "cell_type": "code",
   "execution_count": 12,
   "id": "183e10a6-091f-43c8-847d-81dd78e8d362",
   "metadata": {},
   "outputs": [
    {
     "name": "stdin",
     "output_type": "stream",
     "text": [
      " Enter the value --  12\n"
     ]
    },
    {
     "name": "stdout",
     "output_type": "stream",
     "text": [
      "The factorial of  1  is  1\n",
      "The factorial of  2  is  2\n",
      "The factorial of  3  is  6\n",
      "The factorial of  4  is  24\n",
      "The factorial of  5  is  120\n",
      "The factorial of  6  is  720\n",
      "The factorial of  7  is  5040\n",
      "The factorial of  8  is  40320\n",
      "The factorial of  9  is  362880\n",
      "The factorial of  10  is  3628800\n",
      "The factorial of  11  is  39916800\n",
      "The factorial of  12  is  479001600\n",
      "479001600\n"
     ]
    }
   ],
   "source": [
    "n = int(input(\" Enter the value -- \"))\n",
    "s=1\n",
    "for i in range(1,n+1):\n",
    "    s = s*i\n",
    "    print(\"The factorial of \", i, \" is \", s)\n",
    "print(s)"
   ]
  },
  {
   "cell_type": "code",
   "execution_count": null,
   "id": "3b6b207e-95c3-416b-baed-5fe6cc989d2c",
   "metadata": {},
   "outputs": [],
   "source": []
  }
 ],
 "metadata": {
  "kernelspec": {
   "display_name": "Python 3 (ipykernel)",
   "language": "python",
   "name": "python3"
  },
  "language_info": {
   "codemirror_mode": {
    "name": "ipython",
    "version": 3
   },
   "file_extension": ".py",
   "mimetype": "text/x-python",
   "name": "python",
   "nbconvert_exporter": "python",
   "pygments_lexer": "ipython3",
   "version": "3.11.7"
  }
 },
 "nbformat": 4,
 "nbformat_minor": 5
}
