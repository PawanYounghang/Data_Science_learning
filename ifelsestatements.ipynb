{
 "cells": [
  {
   "cell_type": "code",
   "execution_count": 1,
   "id": "9fd240f4-755a-4503-a81e-8ac409f57f4c",
   "metadata": {},
   "outputs": [
    {
     "name": "stdin",
     "output_type": "stream",
     "text": [
      "Enter a = 5\n"
     ]
    },
    {
     "name": "stdout",
     "output_type": "stream",
     "text": [
      " a is positive\n"
     ]
    }
   ],
   "source": [
    "#if <condition>:\n",
    "#   <operation>\n",
    "#elif <condition>:\n",
    "#    <operation>\n",
    "#elif <condition>:\n",
    "#    <operation>\n",
    "#else:\n",
    "#    <operation>\n",
    "\n",
    "a = int(input(\"Enter a =\"))\n",
    "if a >=0:\n",
    "    print(\" a is positive\")\n",
    "else:\n",
    "    print(\"a is negative\")"
   ]
  },
  {
   "cell_type": "code",
   "execution_count": 2,
   "id": "aed5b76a-23f6-4a43-94ea-280323b6f350",
   "metadata": {},
   "outputs": [
    {
     "name": "stdin",
     "output_type": "stream",
     "text": [
      "Enter a = 8\n"
     ]
    },
    {
     "name": "stdout",
     "output_type": "stream",
     "text": [
      " a is even\n"
     ]
    }
   ],
   "source": [
    "a = int(input(\"Enter a =\"))\n",
    "if a%2 ==0:\n",
    "    print(\" a is even\")\n",
    "else:\n",
    "    print(\"a is odd\")"
   ]
  },
  {
   "cell_type": "code",
   "execution_count": 3,
   "id": "427bef18-8732-4852-8e18-4bc57168bb6d",
   "metadata": {},
   "outputs": [
    {
     "name": "stdin",
     "output_type": "stream",
     "text": [
      "Enter a = 4\n",
      "Enter b = 7\n"
     ]
    },
    {
     "name": "stdout",
     "output_type": "stream",
     "text": [
      " a is lesser than b\n"
     ]
    }
   ],
   "source": [
    "a = int(input(\"Enter a =\"))\n",
    "b = int(input(\"Enter b =\"))\n",
    "if a > b:\n",
    "    print(\" a is greater than b\")\n",
    "\n",
    "elif  a < b:\n",
    "    print(\" a is lesser than b\")\n",
    "else:\n",
    "    print(\"a is equal to b\")"
   ]
  },
  {
   "cell_type": "code",
   "execution_count": 8,
   "id": "7ecfb1e6-4e05-4cae-aa3b-d40cd7ce0a86",
   "metadata": {},
   "outputs": [
    {
     "name": "stdin",
     "output_type": "stream",
     "text": [
      "Enter a = 8\n",
      "Enter b = 9\n",
      " choose + - * /  +\n"
     ]
    },
    {
     "name": "stdout",
     "output_type": "stream",
     "text": [
      "17\n"
     ]
    }
   ],
   "source": [
    "a = int(input(\"Enter a =\"))\n",
    "b = int(input(\"Enter b =\"))\n",
    "o = input(\" choose + - * / \")\n",
    "if o == '+':\n",
    "    print(a+b)\n",
    "elif  o == '-':\n",
    "    print(a-b)\n",
    "else:\n",
    "    print(\"invalid\")"
   ]
  },
  {
   "cell_type": "code",
   "execution_count": 12,
   "id": "8391f651-01a7-4b9d-a373-b6008f66400d",
   "metadata": {},
   "outputs": [
    {
     "name": "stdin",
     "output_type": "stream",
     "text": [
      "Physics = 10\n",
      "Chemistry = 23\n",
      "Mathematics = 34\n",
      "English = 34\n",
      "Nepali = 34\n"
     ]
    },
    {
     "name": "stdout",
     "output_type": "stream",
     "text": [
      "135 27.0\n"
     ]
    }
   ],
   "source": [
    "Phy = int(input(\"Physics =\"))\n",
    "chem = int(input(\"Chemistry =\"))\n",
    "Math = int(input(\"Mathematics =\"))\n",
    "Eng = int(input(\"English =\"))\n",
    "Nep = int(input(\"Nepali =\"))\n",
    "\n",
    "total = Phy + chem  + Math + Eng + Nep\n",
    "Per = total/5\n",
    "\n",
    "print(total, Per)\n"
   ]
  },
  {
   "cell_type": "code",
   "execution_count": 13,
   "id": "c666cbe8-f246-490f-9053-f6489e0dd3ec",
   "metadata": {},
   "outputs": [
    {
     "name": "stdout",
     "output_type": "stream",
     "text": [
      "True\n",
      "False\n",
      "False\n",
      "False\n"
     ]
    }
   ],
   "source": [
    "#and \n",
    "print(True and True)\n",
    "print(True and False)\n",
    "print(False and True)\n",
    "print(False and False)"
   ]
  },
  {
   "cell_type": "code",
   "execution_count": 14,
   "id": "9db77709-0697-4dd2-978d-c36bd6b78e92",
   "metadata": {},
   "outputs": [
    {
     "name": "stdout",
     "output_type": "stream",
     "text": [
      "True\n",
      "True\n",
      "True\n",
      "False\n"
     ]
    }
   ],
   "source": [
    "#or\n",
    "print(True or True)\n",
    "print(True or False)\n",
    "print(False or True)\n",
    "print(False or False)"
   ]
  },
  {
   "cell_type": "code",
   "execution_count": 8,
   "id": "9fbf8c63-9bc7-4606-a8e7-b1183d251116",
   "metadata": {},
   "outputs": [
    {
     "name": "stdout",
     "output_type": "stream",
     "text": [
      "the sides of the traingles are:\n"
     ]
    },
    {
     "name": "stdin",
     "output_type": "stream",
     "text": [
      "a = 43\n",
      "b = 5\n",
      "c = 45\n"
     ]
    },
    {
     "name": "stdout",
     "output_type": "stream",
     "text": [
      "The triangle is scalene.\n"
     ]
    }
   ],
   "source": [
    "print(\"the sides of the traingles are:\")\n",
    "a = int(input(\"a =\"))\n",
    "b = int(input(\"b =\"))\n",
    "c = int(input(\"c =\"))\n",
    "if (a + b > c) and (a + c > b) and (b + c > a):\n",
    "    if a == b == c:\n",
    "        print(\"The triangle is equilateral.\")\n",
    "    elif a == b or b == c or a == c:\n",
    "        print(\"The triangle is isosceles.\")\n",
    "    else:\n",
    "        print(\"The triangle is scalene.\")\n",
    "else: \n",
    "    print(\"The given values cannot form a triangle.\")\n",
    "\n",
    "# Test cases\n",
    "#classify_triangle(3, 4, 5)    # Output: The triangle is scalene.\n",
    "#classify_triangle(5, 5, 5)    # Output: The triangle is equilateral.\n",
    "#classify_triangle(4, 4, 6)    # Output: The triangle is isosceles.\n",
    "#classify_triangle(1, 2, 4)    # Output: The given values cannot form a triangle.\n"
   ]
  },
  {
   "cell_type": "code",
   "execution_count": 9,
   "id": "1d26d142-2aa9-4ab4-b315-91d7e540aeba",
   "metadata": {},
   "outputs": [
    {
     "name": "stdin",
     "output_type": "stream",
     "text": [
      " Math =  23\n"
     ]
    },
    {
     "name": "stdout",
     "output_type": "stream",
     "text": [
      "F\n"
     ]
    }
   ],
   "source": [
    "score = int(input(\"Math = \"))\n",
    "\n",
    "if score >= 90 and score <= 100:\n",
    "    if score == 100:\n",
    "        grade = \"A+\"\n",
    "    else:\n",
    "        grade = \"A\"\n",
    "elif score >= 80 and score < 90:\n",
    "    grade = \"B\"\n",
    "elif score >= 70 and score < 80:\n",
    "    grade = \"C\"\n",
    "elif score >= 60 and score < 70:\n",
    "    grade = \"D\"\n",
    "else:\n",
    "    grade = \"F\"\n",
    "\n",
    "print(grade)\n"
   ]
  },
  {
   "cell_type": "code",
   "execution_count": 10,
   "id": "3cbe6be9-ca54-45eb-b044-0339c176f4e9",
   "metadata": {},
   "outputs": [
    {
     "name": "stdout",
     "output_type": "stream",
     "text": [
      "Subject\t\tScore\n",
      "---------------------\n",
      "Subject 1\t85\n",
      "Subject 2\t75\n",
      "Subject 3\t90\n",
      "Subject 4\t80\n",
      "Subject 5\t88\n",
      "Subject 6\t92\n",
      "Subject 7\t78\n",
      "Subject 8\t83\n",
      "---------------------\n",
      "Total Score:\t671\n",
      "Percentage:\t83.88%\n",
      "Grade:\t\tB\n"
     ]
    }
   ],
   "source": [
    "def calculate_grade(scores):\n",
    "    total_score = sum(scores)\n",
    "    percentage = total_score / 8\n",
    "    \n",
    "    if percentage >= 90 and percentage <= 100:\n",
    "        if percentage == 100:\n",
    "            grade = \"A+\"\n",
    "        else:\n",
    "            grade = \"A\"\n",
    "    elif percentage >= 80 and percentage < 90:\n",
    "        grade = \"B\"\n",
    "    elif percentage >= 70 and percentage < 80:\n",
    "        grade = \"C\"\n",
    "    elif percentage >= 60 and percentage < 70:\n",
    "        grade = \"D\"\n",
    "    else:\n",
    "        grade = \"F\"\n",
    "    \n",
    "    return grade, percentage\n",
    "\n",
    "def print_result(scores):\n",
    "    grade, percentage = calculate_grade(scores)\n",
    "    print(\"Subject\\t\\tScore\")\n",
    "    print(\"---------------------\")\n",
    "    for i, score in enumerate(scores):\n",
    "        print(f\"Subject {i+1}\\t{score}\")\n",
    "    print(\"---------------------\")\n",
    "    print(f\"Total Score:\\t{sum(scores)}\")\n",
    "    print(f\"Percentage:\\t{percentage:.2f}%\")\n",
    "    print(f\"Grade:\\t\\t{grade}\")\n",
    "\n",
    "# Test case\n",
    "student_scores = [85, 75, 90, 80, 88, 92, 78, 83]\n",
    "print_result(student_scores)\n"
   ]
  },
  {
   "cell_type": "code",
   "execution_count": null,
   "id": "79636c2e-d0dc-4f9f-9120-ebbd06eea35a",
   "metadata": {},
   "outputs": [],
   "source": []
  }
 ],
 "metadata": {
  "kernelspec": {
   "display_name": "Python 3 (ipykernel)",
   "language": "python",
   "name": "python3"
  },
  "language_info": {
   "codemirror_mode": {
    "name": "ipython",
    "version": 3
   },
   "file_extension": ".py",
   "mimetype": "text/x-python",
   "name": "python",
   "nbconvert_exporter": "python",
   "pygments_lexer": "ipython3",
   "version": "3.11.7"
  }
 },
 "nbformat": 4,
 "nbformat_minor": 5
}
