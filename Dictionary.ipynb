{
 "cells": [
  {
   "cell_type": "code",
   "execution_count": null,
   "id": "b759dbcb-5354-4df6-bec0-141bc14f769a",
   "metadata": {},
   "outputs": [],
   "source": [
    "# dictionary\n",
    "# - indexing \n",
    "# - Ordered \n",
    "# - multiple and duplicate vlues  \n",
    "# - mutable"
   ]
  },
  {
   "cell_type": "code",
   "execution_count": null,
   "id": "f26c6fc2-d056-4ce6-be2c-98fe8ff55deb",
   "metadata": {},
   "outputs": [],
   "source": [
    "d = dict()"
   ]
  },
  {
   "cell_type": "code",
   "execution_count": null,
   "id": "c5ccdc21-b1a8-4146-9080-7418e68f606b",
   "metadata": {},
   "outputs": [],
   "source": [
    "#d ={<key>:<value>,<key>:<value>,......}"
   ]
  },
  {
   "cell_type": "code",
   "execution_count": 2,
   "id": "06599f63-159f-4ecf-afd8-40ffa4a5637a",
   "metadata": {},
   "outputs": [
    {
     "name": "stdout",
     "output_type": "stream",
     "text": [
      "{'a': 'apple', 'b': 'ball', 'c': 'cat'}\n",
      "<class 'dict'>\n"
     ]
    }
   ],
   "source": [
    "d = {'a':'apple','b':'ball','c':'cat'}\n",
    "print(d)\n",
    "print(type(d))"
   ]
  },
  {
   "cell_type": "code",
   "execution_count": 5,
   "id": "ad22fdfd-648f-4222-9d7d-c3a85e83ece5",
   "metadata": {},
   "outputs": [
    {
     "name": "stdout",
     "output_type": "stream",
     "text": [
      "ram hari shyam \n",
      " 9825563456 \n",
      " 67563456 \n",
      " 78675443 \n",
      " ('ram', 9825563456) \n",
      " ('hari', 67563456) \n",
      " ('shyam', 78675443) "
     ]
    }
   ],
   "source": [
    "d = {'ram':9825563456,'hari':67563456,'shyam':78675443}\n",
    "\n",
    "for i in d:\n",
    "    print(i,end = \" \")\n",
    "\n",
    "for i in d.values():\n",
    "    print(\"\\n\",i,end = \" \")\n",
    "\n",
    "for i in d.items():\n",
    "    print(\"\\n\",i,end = \" \")"
   ]
  },
  {
   "cell_type": "code",
   "execution_count": 6,
   "id": "acd4e4d1-2add-40ee-ad0a-a550f51c945b",
   "metadata": {},
   "outputs": [
    {
     "data": {
      "text/plain": [
       "{'a': 'apple', 'b': 'ball'}"
      ]
     },
     "execution_count": 6,
     "metadata": {},
     "output_type": "execute_result"
    }
   ],
   "source": [
    "d = [['a','apple'],['b','ball']]\n",
    "dict(d)"
   ]
  },
  {
   "cell_type": "code",
   "execution_count": 7,
   "id": "6e6674cc-317d-4a45-98df-472bdea98aff",
   "metadata": {},
   "outputs": [
    {
     "data": {
      "text/plain": [
       "{'a': 'car', 'b': 'ball', 'c': 'cat'}"
      ]
     },
     "execution_count": 7,
     "metadata": {},
     "output_type": "execute_result"
    }
   ],
   "source": [
    "a = {'a':'apple','b':'ball','c':'cat','a':'car'}\n",
    "a"
   ]
  },
  {
   "cell_type": "code",
   "execution_count": null,
   "id": "c411f478-c6a1-4f52-a3a4-eb1c2dfbc8be",
   "metadata": {},
   "outputs": [],
   "source": [
    "# no +-*/"
   ]
  },
  {
   "cell_type": "code",
   "execution_count": 10,
   "id": "c27ce8b3-1674-4e6b-86ac-9ad83d0cff2b",
   "metadata": {},
   "outputs": [
    {
     "name": "stdout",
     "output_type": "stream",
     "text": [
      "{'a': 'apple', 'b': 'apple', 'c': 'apple', 'd': 'apple'}\n"
     ]
    }
   ],
   "source": [
    "# create\n",
    "d = {}\n",
    "d['a'] = 'apple'\n",
    "d['b'] = 'apple'\n",
    "d['c'] = 'apple'\n",
    "d['d'] = 'apple'\n",
    "print(d)"
   ]
  },
  {
   "cell_type": "code",
   "execution_count": 11,
   "id": "012386f6-d094-445f-a2a4-de751656274a",
   "metadata": {},
   "outputs": [
    {
     "name": "stdin",
     "output_type": "stream",
     "text": [
      "Enter the n :  5\n",
      "Name:  Pawan\n",
      "Phone:  7867564534\n",
      "Name:  Jawan\n",
      "Phone:  67845389\n",
      "Name:  hajurba\n",
      "Phone:  6489732954\n",
      "Name:  ramesh\n",
      "Phone:  687539735\n",
      "Name:  ganesh\n",
      "Phone:  67538967\n"
     ]
    },
    {
     "name": "stdout",
     "output_type": "stream",
     "text": [
      "{'Pawan': 7867564534, 'Jawan': 67845389, 'hajurba': 6489732954, 'ramesh': 687539735, 'ganesh': 67538967}\n"
     ]
    }
   ],
   "source": [
    "d = {}\n",
    "n = int(input(\"Enter the n : \"))\n",
    "for i  in range(n):\n",
    "    name = input(\"Name: \")\n",
    "    phone = int(input(\"Phone: \"))\n",
    "    d[name] = phone\n",
    "\n",
    "print(d)"
   ]
  },
  {
   "cell_type": "code",
   "execution_count": 12,
   "id": "fa7d5d35-2e4f-4047-95d9-62a4cba66d88",
   "metadata": {},
   "outputs": [
    {
     "name": "stdout",
     "output_type": "stream",
     "text": [
      "{'a': [1, 2, 3, 4, 5], 'b': [45, 23, 45, 34]}\n",
      "34\n"
     ]
    }
   ],
   "source": [
    "# list in the dictionary\n",
    "\n",
    "d = {'a':[1,2,3,4,5],'b':[45,23,45,34]}\n",
    "print(d)\n",
    "print(d['b'][3])"
   ]
  },
  {
   "cell_type": "code",
   "execution_count": 21,
   "id": "505492f7-46cc-491c-acb1-e3c3fc9018c7",
   "metadata": {},
   "outputs": [
    {
     "name": "stdin",
     "output_type": "stream",
     "text": [
      "Enter the n :  2\n",
      "Name:  Pawan\n",
      "NTC Phone:  2345\n",
      "Ncell Phone:  12234\n",
      "Name:  ram\n",
      "NTC Phone:  234\n",
      "Ncell Phone:  1212\n"
     ]
    },
    {
     "name": "stdout",
     "output_type": "stream",
     "text": [
      "{'Pawan': [2345, 12234], 'ram': [234, 1212]}\n"
     ]
    }
   ],
   "source": [
    "# WAP to create a dictionary format \n",
    "\n",
    "d = {}\n",
    "n = int(input(\"Enter the n : \"))\n",
    "for i  in range(n):\n",
    "    name = input(\"Name: \")\n",
    "    ntc = int(input(\"NTC Phone: \"))\n",
    "    ncell = int(input(\"Ncell Phone: \"))\n",
    "    d[name] = [ntc,ncell]\n",
    "\n",
    "print(d)"
   ]
  },
  {
   "cell_type": "code",
   "execution_count": 16,
   "id": "066d4e93-d899-42ea-9f8f-f4247828d59f",
   "metadata": {},
   "outputs": [
    {
     "name": "stdout",
     "output_type": "stream",
     "text": [
      "{'ram': 10000000, 'shyam': 7856785678, 'rama': 89675645}\n"
     ]
    }
   ],
   "source": [
    "# update in dictionary\n",
    "\n",
    "d = {'ram':9867564534,'shyam':7856785678}\n",
    "\n",
    "d['ram'] = 10000000       # we can assign the new value directly \n",
    "d['rama'] = 89675645      # adding the new key value pair \n",
    "print(d)"
   ]
  },
  {
   "cell_type": "code",
   "execution_count": 17,
   "id": "838301ef-fc77-4256-b31c-301f6c7eeaf5",
   "metadata": {},
   "outputs": [
    {
     "name": "stdout",
     "output_type": "stream",
     "text": [
      "{'ram': 10000000, 'shyam': 7856785678}\n"
     ]
    }
   ],
   "source": [
    "# delete\n",
    "# del pop\n",
    "d = {'ram': 10000000, 'shyam': 7856785678, 'rama': 89675645}\n",
    "del d['rama']\n",
    "print(d)"
   ]
  },
  {
   "cell_type": "code",
   "execution_count": 20,
   "id": "c4b83dfa-164f-4510-9bde-ac4e85eec3a0",
   "metadata": {},
   "outputs": [
    {
     "name": "stdout",
     "output_type": "stream",
     "text": [
      "{'ram': 10000000, 'shyam': 7856785678}\n",
      "89675645\n"
     ]
    }
   ],
   "source": [
    "# delete\n",
    "# del pop\n",
    "d = {'ram': 10000000, 'shyam': 7856785678, 'rama': 89675645}\n",
    "c = d.pop('rama')  #here the pop() moved the value of 'rama' to 'c'\n",
    "print(d)\n",
    "print(c)"
   ]
  },
  {
   "cell_type": "code",
   "execution_count": 28,
   "id": "3c1a4da2-d932-4b47-b76e-bfba965490ca",
   "metadata": {},
   "outputs": [
    {
     "name": "stdin",
     "output_type": "stream",
     "text": [
      "No of people:  5\n",
      "Name:  Ram\n",
      "Ntc no:  7856453423\n",
      "Ncell no:  5645342345\n",
      "Name:  SHyam\n",
      "Ntc no:  6756453445\n",
      "Ncell no:  4534456756\n",
      "Name:  Hari\n",
      "Ntc no:  675645344556\n",
      "Ncell no:  675645344556\n",
      "Name:  Ramesh\n",
      "Ntc no:  5645566756\n",
      "Ncell no:  8978670090\n",
      "Name:  Ayush\n",
      "Ntc no:  675645566756\n",
      "Ncell no:  786756675645\n"
     ]
    },
    {
     "name": "stdout",
     "output_type": "stream",
     "text": [
      "{'name': ['Ram', 'SHyam', 'Hari', 'Ramesh', 'Ayush'], 'ntc': [7856453423, 6756453445, 675645344556, 5645566756, 675645566756], 'ncell': [5645342345, 4534456756, 675645344556, 8978670090, 786756675645]}\n"
     ]
    }
   ],
   "source": [
    "# d = {'name':['ram','hari','shyam'],\n",
    "#         'ntc':[673453,5634535,8967858],'ncell':[563265,3452646,56326435]}\n",
    "\n",
    "#make the following data format \n",
    "\n",
    "name = []\n",
    "ntc = []\n",
    "ncell = []\n",
    "d = {'name':name,'ntc': ntc,'ncell': ncell}\n",
    "\n",
    "\n",
    "n = int(input(\"No of people: \"))\n",
    "\n",
    "for i in range(n):\n",
    "    n = input(\"Name: \")\n",
    "    p1 = int(input(\"Ntc no: \"))\n",
    "    p2 = int(input(\"Ncell no: \"))\n",
    "    name.append(n)\n",
    "    ntc.append(p1)\n",
    "    ncell.append(p2)\n",
    "\n",
    "d = {'name':name,'ntc': ntc,'ncell': ncell}\n",
    "print(d)"
   ]
  },
  {
   "cell_type": "code",
   "execution_count": 29,
   "id": "fb88b821-ece5-4b22-8838-448d6b41720a",
   "metadata": {},
   "outputs": [
    {
     "name": "stdout",
     "output_type": "stream",
     "text": [
      "Ram 7856453423 5645342345\n"
     ]
    }
   ],
   "source": [
    "print(d['name'][0],d['ntc'][0],d['ncell'][0])"
   ]
  },
  {
   "cell_type": "code",
   "execution_count": 31,
   "id": "f2740f88-004e-406f-b156-edcb923469e9",
   "metadata": {},
   "outputs": [
    {
     "name": "stdout",
     "output_type": "stream",
     "text": [
      "{1: {'name': 'ram', 'age': 24, 'add': 'kathmandu'}, 2: {'name': 'shyam', 'age': 34, 'add': 'bhaktapur'}}\n",
      "{'name': 'ram', 'age': 24, 'add': 'kathmandu'}\n",
      "ram\n"
     ]
    }
   ],
   "source": [
    "# dict inside dict\n",
    "\n",
    "d = { 1:{'name':'ram','age':24,'add':'kathmandu'},2:{'name':'shyam','age': 34,'add':'bhaktapur'}}\n",
    "print(d)\n",
    "print(d[1])\n",
    "print(d[1]['name'])"
   ]
  },
  {
   "cell_type": "code",
   "execution_count": 44,
   "id": "ad43fdb5-7e3b-40d1-a1b6-375eba267d1b",
   "metadata": {},
   "outputs": [
    {
     "name": "stdin",
     "output_type": "stream",
     "text": [
      "No of peoples -  5\n",
      "name - Ram\n",
      "Age -  23\n",
      "Add -  Ktm\n",
      "name - Shyam\n",
      "Age -  45\n",
      "Add -  brt\n",
      "name - Gita\n",
      "Age -  23\n",
      "Add -  Damak\n",
      "name - Sita\n",
      "Age -  67\n",
      "Add -  Mechi\n",
      "name - Hari\n",
      "Age -  56\n",
      "Add -  Butwal\n"
     ]
    },
    {
     "name": "stdout",
     "output_type": "stream",
     "text": [
      "{1: {'name': 'Ram', 'age': 23, 'add': 'Ktm'}, 2: {'name': 'Shyam', 'age': 45, 'add': 'brt'}, 3: {'name': 'Gita', 'age': 23, 'add': 'Damak'}, 4: {'name': 'Sita', 'age': 67, 'add': 'Mechi'}, 5: {'name': 'Hari', 'age': 56, 'add': 'Butwal'}}\n"
     ]
    }
   ],
   "source": [
    "# WAP to create the dict inside dict like above and do crude operation(edit/delete/add)\n",
    "\n",
    "n = int(input(\"No of peoples - \"))\n",
    "d = {}\n",
    "for i in range(1,n+1):\n",
    "    info = {}\n",
    "    info['name'] = input(\"name -\")\n",
    "    info['age'] = int(input(\"Age - \"))\n",
    "    info['add'] = input(\"Add - \")\n",
    "    d[i] = info\n",
    "\n",
    "print(d)"
   ]
  },
  {
   "cell_type": "code",
   "execution_count": 3,
   "id": "59d4d2e9-1f69-44d7-be2b-d8637b72438e",
   "metadata": {},
   "outputs": [
    {
     "name": "stdout",
     "output_type": "stream",
     "text": [
      "{1: {'name': 'Ram', 'age': 23, 'add': 'Kathmandu'}, 2: {'name': 'Shyam', 'age': 45, 'add': 'Biratnagar'}, 3: {'name': 'Giteshowri', 'age': 23, 'add': 'Damak'}, 4: {'name': 'Sita', 'age': 67, 'add': 'Mechi'}, 5: {'name': 'Hariram Krishna', 'age': 56, 'add': 'Butwal'}}\n"
     ]
    }
   ],
   "source": [
    "d = {1: {'name': 'Ram', 'age': 23, 'add': 'Ktm'}, 2: {'name': 'Shyam', 'age': 45, 'add': 'brt'}, 3: {'name': 'Gita', 'age': 23, 'add': 'Damak'}, 4: {'name': 'Sita', 'age': 67, 'add': 'Mechi'}, 5: {'name': 'Hari', 'age': 56, 'add': 'Butwal'}}\n",
    "\n",
    "# changing brt to Biratnagar/ktm to kathmandu\n",
    "d[1]['add'] = 'Kathmandu'\n",
    "d[2]['add'] = 'Biratnagar'\n",
    "\n",
    "#changing the name (Gita - Giteshowri)/(Hari - Hariram Krishna)\n",
    "d[3]['name'] = 'Giteshowri'\n",
    "d[5]['name'] = 'Hariram Krishna'\n",
    "\n",
    "print(d)"
   ]
  },
  {
   "cell_type": "code",
   "execution_count": 17,
   "id": "86a47a70-676f-4df7-b9a1-fee0bfd046ca",
   "metadata": {},
   "outputs": [
    {
     "name": "stdin",
     "output_type": "stream",
     "text": [
      "No of different items -  5\n",
      "Item name -  Sugar\n",
      "Price -  100\n",
      "Quantity -  4\n",
      "Item name -  Maida\n",
      "Price -  80\n",
      "Quantity -  5\n",
      "Item name -  Rice\n",
      "Price -  1900\n",
      "Quantity -  2\n",
      "Item name -  Oil\n",
      "Price -  200\n",
      "Quantity -  4\n",
      "Item name -  Honey\n",
      "Price -  545\n",
      "Quantity -  2\n"
     ]
    },
    {
     "name": "stdout",
     "output_type": "stream",
     "text": [
      "[['Sugar', 100, 4], ['Maida', 80, 5], ['Rice', 1900, 2], ['Oil', 200, 4], ['Honey', 545, 2]]\n",
      "\n",
      "The bill for your items is:\n",
      "Sugar \t \t 100 X 4 -------------- 400\n",
      "Maida \t \t 80 X 5 -------------- 400\n",
      "Rice \t \t 1900 X 2 -------------- 3800\n",
      "Oil \t \t 200 X 4 -------------- 800\n",
      "Honey \t \t 545 X 2 -------------- 1090\n",
      "\n",
      " Total ------------------Rs. 6490 |-\n"
     ]
    }
   ],
   "source": [
    "#WAP to create billing application using list inside list and dictionary inside dictionary and do Crude operation \n",
    "\n",
    "n = int(input(\"No of different items - \"))\n",
    "\n",
    "s = []\n",
    "\n",
    "for i in range(n):\n",
    "    l = []\n",
    "    item_name = input(\"Item name - \")\n",
    "    price = int(input(\"Price - \"))\n",
    "    quan = int(input(\"Quantity - \"))\n",
    "    l = [item_name,price,quan]\n",
    "    s.append(l)\n",
    "\n",
    "print (s)\n",
    "\n",
    "print(\"\\nThe bill for your items is:\")\n",
    "\n",
    "index = 0 \n",
    "T = 0\n",
    "for i in range(n):\n",
    "    total = s[index][1]*s[index][2]\n",
    "    print(f\"{s[index][0]} \\t \\t {s[index][1]} X {s[index][2]} -------------- {total}\")\n",
    "    T = T + total\n",
    "    index+=1\n",
    "\n",
    "print(f\"\\n Total ------------------Rs. {T} |-\")\n"
   ]
  },
  {
   "cell_type": "code",
   "execution_count": 2,
   "id": "2b4b5fa2-3e3a-4dad-9353-b196b6f64983",
   "metadata": {},
   "outputs": [
    {
     "name": "stdout",
     "output_type": "stream",
     "text": [
      "add the missing item to the bill\n"
     ]
    },
    {
     "name": "stdin",
     "output_type": "stream",
     "text": [
      "Item name -  Honey\n",
      "Price -  545\n",
      "Quantity -  3\n"
     ]
    },
    {
     "name": "stdout",
     "output_type": "stream",
     "text": [
      "[['Sugar', 200, 3], ['Rice', 1545, 2], ['Maida', 100, 4], ['Onion', 80, 4], ['Oil', 200, 5], ['Honey', 545, 3]]\n",
      "\n",
      "The new bill for your items is:\n",
      "Sugar \t \t 200 X 3 -------------- 600\n",
      "Rice \t \t 1545 X 2 -------------- 3090\n",
      "Maida \t \t 100 X 4 -------------- 400\n",
      "Onion \t \t 80 X 4 -------------- 320\n",
      "Oil \t \t 200 X 5 -------------- 1000\n",
      "Honey \t \t 545 X 3 -------------- 1635\n",
      "\n",
      " Total ------------------Rs. 7045 |-\n"
     ]
    }
   ],
   "source": [
    "l = [['Sugar', 200, 4], ['Rice', 1900, 2], ['Maida', 200, 4], ['Onion', 80, 4], ['Oil', 200, 5]]\n",
    "\n",
    "# adding an item to the list \n",
    "print(\"add the missing item to the bill\")\n",
    "item_name = input(\"Item name - \")\n",
    "price = int(input(\"Price - \"))\n",
    "quan = int(input(\"Quantity - \"))\n",
    "m = [item_name,price,quan]\n",
    "l.append(m)\n",
    "\n",
    "# correcting the price for maida (200 - 100)/rice(1900 - 1545)\n",
    "l[2][1] = 100\n",
    "l[1][1] = 1545\n",
    "\n",
    "#removing 1 kg sugar from the bill \n",
    "l[0][2] = 3 \n",
    "\n",
    "print(l)\n",
    "\n",
    "print(\"\\nThe new bill for your items is:\")\n",
    "\n",
    "index = 0 \n",
    "T = 0\n",
    "for i in range(len(l)):\n",
    "    total = l[index][1]*l[index][2]\n",
    "    print(f\"{l[index][0]} \\t \\t {l[index][1]} X {l[index][2]} -------------- {total}\")\n",
    "    T = T + total\n",
    "    index+=1\n",
    "\n",
    "print(f\"\\n Total ------------------Rs. {T} |-\")"
   ]
  },
  {
   "cell_type": "code",
   "execution_count": 8,
   "id": "ddc327a3-8027-4f9d-8673-1c37e8491e56",
   "metadata": {},
   "outputs": [
    {
     "name": "stdin",
     "output_type": "stream",
     "text": [
      "No of people -  5\n",
      "Name -  Ram\n",
      "Age -  34\n",
      "Address -  Kathmandu\n",
      "Name -  Hari\n",
      "Age -  56\n",
      "Address -  Biratnagar\n",
      "Name -  Umesh\n",
      "Age -  10\n",
      "Address -  Nagur\n",
      "Name -  Shweta\n",
      "Age -  45\n",
      "Address -  Kanpur\n",
      "Name -  Sheetal\n",
      "Age -  23\n",
      "Address -  Hariudwar\n"
     ]
    },
    {
     "name": "stdout",
     "output_type": "stream",
     "text": [
      "(('Ram', 34, 'Kathmandu'), ('Hari', 56, 'Biratnagar'), ('Umesh', 10, 'Nagur'), ('Shweta', 45, 'Kanpur'), ('Sheetal', 23, 'Hariudwar'))\n"
     ]
    }
   ],
   "source": [
    "# WAP to create tuple inside tuple\n",
    "\n",
    "n = int(input(\"No of people - \"))\n",
    "t = ()\n",
    "\n",
    "for i in range(n):\n",
    "    name = input(\"Name - \")\n",
    "    age = int(input(\"Age - \"))\n",
    "    add = input(\"Address - \")\n",
    "    person = (name,age,add)\n",
    "    t = t + (person,)\n",
    "\n",
    "print(t)\n",
    "\n",
    "li = []\n",
    "index = 0\n",
    "for j in range(len(t)):\n",
    "    r = list(t[index])\n",
    "    li.append(r)\n",
    "    index+=1\n",
    "    "
   ]
  },
  {
   "cell_type": "code",
   "execution_count": 11,
   "id": "efd7f6d0-5678-4845-93b4-6ed0cbcd6b7f",
   "metadata": {},
   "outputs": [
    {
     "name": "stdout",
     "output_type": "stream",
     "text": [
      "(('Ram', 34, 'Kathmandu'), ('Hari', 56, 'Biratnagar'), ('Umesh', 10, 'Nagur'), ('Shweta', 45, 'Kanpur'), ('Sheetal', 23, 'Hariudwar'))\n",
      "[['Ram', 34, 'Kathmandu'], ['Hari', 56, 'Biratnagar'], ['Umesh', 10, 'Nagur'], ['Shweta', 45, 'Kanpur'], ['Sheetal', 23, 'Hariudwar']]\n"
     ]
    }
   ],
   "source": [
    "t = (('Ram', 34, 'Kathmandu'), ('Hari', 56, 'Biratnagar'), ('Umesh', 10, 'Nagur'), ('Shweta', 45, 'Kanpur'), ('Sheetal', 23, 'Hariudwar'))\n",
    "\n",
    "# changing tuple inside tuple to list inside list\n",
    "\n",
    "print(t)\n",
    "li = []\n",
    "index = 0\n",
    "for j in range(len(t)):\n",
    "    r = list(t[index])\n",
    "    li.append(r)\n",
    "    index+=1\n",
    "    \n",
    "print(li)"
   ]
  },
  {
   "cell_type": "code",
   "execution_count": 16,
   "id": "27b84276-0fd2-4c74-b78f-708bed46dca0",
   "metadata": {},
   "outputs": [
    {
     "name": "stdout",
     "output_type": "stream",
     "text": [
      "(('Harish', 34, 'Kathmandu'), ('Soniya', 56, 'Biratnagar'), ('Sandesh', 10, 'Nagur'), ('Ramana', 45, 'Kanpur'), ('Sheetal', 23, 'Hariudwar'))\n",
      "[['Ram', 34, 'Kathmandu'], ['Hari', 56, 'Biratnagar'], ['Umesh', 10, 'Nagur'], ['Shweta', 45, 'Kanpur'], ['Sheetal', 23, 'Hariudwar']]\n",
      "\n",
      "\n",
      " [['Harish', 34, 'Kathmandu'], ['Soniya', 56, 'Biratnagar'], ['Sandesh', 10, 'Nagur'], ['Ramana', 45, 'Kanpur'], ['Sheetal', 23, 'Hariudwar']]\n",
      "(('Ram', 34, 'Kathmandu'), ('Hari', 56, 'Biratnagar'), ('Umesh', 10, 'Nagur'), ('Shweta', 45, 'Kanpur'), ('Sheetal', 23, 'Hariudwar'))\n"
     ]
    }
   ],
   "source": [
    "# WAP to convert tuple inside tuple to list inside list and vice versa\n",
    "\n",
    "t = (('Harish', 34, 'Kathmandu'), ('Soniya', 56, 'Biratnagar'), ('Sandesh', 10, 'Nagur'), ('Ramana', 45, 'Kanpur'), ('Sheetal', 23, 'Hariudwar'))\n",
    "l = [['Ram', 34, 'Kathmandu'], ['Hari', 56, 'Biratnagar'], ['Umesh', 10, 'Nagur'], ['Shweta', 45, 'Kanpur'], ['Sheetal', 23, 'Hariudwar']]\n",
    "\n",
    "print(t)\n",
    "print(l)\n",
    "\n",
    "\n",
    "li = []\n",
    "index = 0\n",
    "for j in range(len(t)):\n",
    "    r = list(t[index])\n",
    "    li.append(r)\n",
    "    index+=1\n",
    "    \n",
    "print(\"\\n\\n\",li)\n",
    "\n",
    "\n",
    "tu = ()\n",
    "index = 0\n",
    "for i in range(len(l)):\n",
    "    k = tuple(l[index])\n",
    "    tu = tu + (k,)\n",
    "    index+=1\n",
    "    \n",
    "print(tu)"
   ]
  },
  {
   "cell_type": "code",
   "execution_count": 20,
   "id": "2a207f7f-57d8-4c6b-b48c-31d7efbe8582",
   "metadata": {},
   "outputs": [
    {
     "name": "stdin",
     "output_type": "stream",
     "text": [
      "No of different items -  5\n",
      "Item name -  Sugar\n",
      "Price -  200\n",
      "Quantity -  4\n",
      "Item name -  Maida\n",
      "Price -  300\n",
      "Quantity -  2\n",
      "Item name -  Rice\n",
      "Price -  1545\n",
      "Quantity -  2\n",
      "Item name -  Oil\n",
      "Price -  400\n",
      "Quantity -  1\n",
      "Item name -  Honey\n",
      "Price -  454\n",
      "Quantity -  2\n"
     ]
    },
    {
     "name": "stdout",
     "output_type": "stream",
     "text": [
      "{1: {'name': 'Sugar', 'price': 200, 'quan': 4}, 2: {'name': 'Maida', 'price': 300, 'quan': 2}, 3: {'name': 'Rice', 'price': 1545, 'quan': 2}, 4: {'name': 'Oil', 'price': 400, 'quan': 1}, 5: {'name': 'Honey', 'price': 454, 'quan': 2}}\n",
      "\n",
      "The bill for your items is:\n",
      "Sugar \t \t 200 X 4 -------------- 800\n",
      "Maida \t \t 300 X 2 -------------- 600\n",
      "Rice \t \t 1545 X 2 -------------- 3090\n",
      "Oil \t \t 400 X 1 -------------- 400\n",
      "Honey \t \t 454 X 2 -------------- 908\n",
      "\n",
      " Total ------------------Rs. 5798 |-\n"
     ]
    }
   ],
   "source": [
    "#WAP to create billing application using list inside list and dictionary inside dictionary and do Crude operation \n",
    "\n",
    "n = int(input(\"No of different items - \"))\n",
    "\n",
    "s = {}\n",
    "\n",
    "for i in range(1,n+1):\n",
    "    l = {}\n",
    "    l['name'] = input(\"Item name - \")\n",
    "    l['price'] = int(input(\"Price - \"))\n",
    "    l['quan'] = int(input(\"Quantity - \"))\n",
    "    s[i] = l\n",
    "    \n",
    "\n",
    "print (s)\n",
    "\n",
    "print(\"\\nThe bill for your items is:\")\n",
    "\n",
    "index = 1\n",
    "T = 0\n",
    "for i in range(n):\n",
    "    total = s[index]['price']*s[index]['quan']\n",
    "    print(f\"{s[index]['name']} \\t \\t {s[index]['price']} X {s[index]['quan']} -------------- {total}\")\n",
    "    T = T + total\n",
    "    index+=1\n",
    "\n",
    "print(f\"\\n Total ------------------Rs. {T} |-\")\n"
   ]
  },
  {
   "cell_type": "code",
   "execution_count": null,
   "id": "efd13bd8-dbf8-4354-8706-66ff99ed8fbf",
   "metadata": {},
   "outputs": [],
   "source": []
  }
 ],
 "metadata": {
  "kernelspec": {
   "display_name": "Python 3 (ipykernel)",
   "language": "python",
   "name": "python3"
  },
  "language_info": {
   "codemirror_mode": {
    "name": "ipython",
    "version": 3
   },
   "file_extension": ".py",
   "mimetype": "text/x-python",
   "name": "python",
   "nbconvert_exporter": "python",
   "pygments_lexer": "ipython3",
   "version": "3.11.7"
  }
 },
 "nbformat": 4,
 "nbformat_minor": 5
}
