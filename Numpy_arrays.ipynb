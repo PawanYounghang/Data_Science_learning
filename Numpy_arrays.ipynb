{
 "cells": [
  {
   "cell_type": "code",
   "execution_count": 7,
   "id": "710b9165-39b9-4b82-a4c3-cac0bb770750",
   "metadata": {},
   "outputs": [
    {
     "name": "stdout",
     "output_type": "stream",
     "text": [
      "<class 'numpy.ndarray'>\n"
     ]
    }
   ],
   "source": [
    "import numpy as np\n",
    "\n",
    "a1 = np.array([1,2,3,4,5])\n",
    "print(type(a1))"
   ]
  },
  {
   "cell_type": "code",
   "execution_count": 10,
   "id": "eba1413e-c4f0-450e-9dc7-719663bbf0e4",
   "metadata": {},
   "outputs": [
    {
     "data": {
      "text/plain": [
       "array([[ 1,  2,  3,  4],\n",
       "       [ 5,  6,  7,  8],\n",
       "       [ 9, 10, 11, 12],\n",
       "       [15, 16, 17, 18]])"
      ]
     },
     "execution_count": 10,
     "metadata": {},
     "output_type": "execute_result"
    }
   ],
   "source": [
    "a2 = np.array([range(i,i+4) for i in [1,5,9,15]])\n",
    "a2"
   ]
  },
  {
   "cell_type": "code",
   "execution_count": 14,
   "id": "3e476635-0b6f-4d28-87df-a24fdb8259fb",
   "metadata": {},
   "outputs": [
    {
     "data": {
      "text/plain": [
       "array([2. , 3.4, 5. , 6. , 7. , 8. , 1.3, 5. ])"
      ]
     },
     "execution_count": 14,
     "metadata": {},
     "output_type": "execute_result"
    }
   ],
   "source": [
    "l3 = [2,3.4,5,6,7,8,1.3,5]\n",
    "a3 = np.array(l3)\n",
    "a3"
   ]
  },
  {
   "cell_type": "code",
   "execution_count": 19,
   "id": "c3eeceb5-198b-4993-a404-e1e3999879be",
   "metadata": {},
   "outputs": [
    {
     "data": {
      "text/plain": [
       "array([ 3,  4,  5,  6,  7, 45, 23], dtype=int64)"
      ]
     },
     "execution_count": 19,
     "metadata": {},
     "output_type": "execute_result"
    }
   ],
   "source": [
    "l4 = [3.14,4.25,5,6,7.789,45,23.45]\n",
    "a4 = np.array(l4,dtype=np.int64)\n",
    "a4"
   ]
  },
  {
   "cell_type": "code",
   "execution_count": 23,
   "id": "69c835f5-0063-44e8-9b4a-4cbcbfbc233c",
   "metadata": {},
   "outputs": [
    {
     "data": {
      "text/plain": [
       "array([[ 23.,  35.,  47.,  59.],\n",
       "       [ 45.,  57.,  69.,  81.],\n",
       "       [678., 690., 702., 714.],\n",
       "       [ 54.,  66.,  78.,  90.],\n",
       "       [ 56.,  68.,  80.,  92.],\n",
       "       [231., 243., 255., 267.],\n",
       "       [908., 920., 932., 944.]], dtype=float32)"
      ]
     },
     "execution_count": 23,
     "metadata": {},
     "output_type": "execute_result"
    }
   ],
   "source": [
    "l5 = [23,45,678,54,56,231,908]\n",
    "a5 = np.array([range(i,i+40,12) for i in l5],dtype=np.float32)\n",
    "a5"
   ]
  },
  {
   "cell_type": "code",
   "execution_count": 37,
   "id": "4fb14eb7-bc7a-4a50-9e9b-0683e071829a",
   "metadata": {},
   "outputs": [
    {
     "data": {
      "text/plain": [
       "array([[0, 0, 0, 0, 0, 0, 0, 0, 0, 0, 0, 0],\n",
       "       [0, 0, 0, 0, 0, 0, 0, 0, 0, 0, 0, 0],\n",
       "       [0, 0, 0, 0, 0, 0, 0, 0, 0, 0, 0, 0],\n",
       "       [0, 0, 0, 0, 0, 0, 0, 0, 0, 0, 0, 0],\n",
       "       [0, 0, 0, 0, 0, 0, 0, 0, 0, 0, 0, 0]])"
      ]
     },
     "execution_count": 37,
     "metadata": {},
     "output_type": "execute_result"
    }
   ],
   "source": [
    "a6 = np.zeros((5,12), dtype=np.int32)\n",
    "a6"
   ]
  },
  {
   "cell_type": "code",
   "execution_count": 39,
   "id": "6320ef71-f0cb-4b50-b0ca-b91e37a9cc2d",
   "metadata": {},
   "outputs": [
    {
     "data": {
      "text/plain": [
       "array([[1., 1., 1., 1., 1., 1., 1., 1.],\n",
       "       [1., 1., 1., 1., 1., 1., 1., 1.],\n",
       "       [1., 1., 1., 1., 1., 1., 1., 1.],\n",
       "       [1., 1., 1., 1., 1., 1., 1., 1.],\n",
       "       [1., 1., 1., 1., 1., 1., 1., 1.]])"
      ]
     },
     "execution_count": 39,
     "metadata": {},
     "output_type": "execute_result"
    }
   ],
   "source": [
    "a7 = np.ones((5,8),dtype=np.float_)\n",
    "a7"
   ]
  },
  {
   "cell_type": "code",
   "execution_count": 41,
   "id": "2bfe3d86-928b-43a5-9977-cfe081e9c70e",
   "metadata": {},
   "outputs": [
    {
     "data": {
      "text/plain": [
       "array([[1., 0., 0., 0., 0.],\n",
       "       [0., 1., 0., 0., 0.],\n",
       "       [0., 0., 1., 0., 0.],\n",
       "       [0., 0., 0., 1., 0.],\n",
       "       [0., 0., 0., 0., 1.]], dtype=float32)"
      ]
     },
     "execution_count": 41,
     "metadata": {},
     "output_type": "execute_result"
    }
   ],
   "source": [
    "a8 = np.eye(5,dtype=np.float32)\n",
    "a8"
   ]
  },
  {
   "cell_type": "code",
   "execution_count": 43,
   "id": "d421b504-051f-4a4e-aa08-f7b58fa5f6cc",
   "metadata": {},
   "outputs": [
    {
     "data": {
      "text/plain": [
       "array([ 1.41741075e-311,  0.00000000e+000, -6.47591605e-319])"
      ]
     },
     "execution_count": 43,
     "metadata": {},
     "output_type": "execute_result"
    }
   ],
   "source": [
    "a9 = np.empty(3)\n",
    "a9"
   ]
  },
  {
   "cell_type": "code",
   "execution_count": 44,
   "id": "b8b5eab9-14d6-439c-a137-8434606e4b5c",
   "metadata": {},
   "outputs": [
    {
     "data": {
      "text/plain": [
       "array([ 2,  5,  8, 11, 14, 17, 20, 23, 26, 29, 32, 35, 38, 41, 44, 47, 50,\n",
       "       53, 56])"
      ]
     },
     "execution_count": 44,
     "metadata": {},
     "output_type": "execute_result"
    }
   ],
   "source": [
    "a10 = np.arange(2,59,3)\n",
    "a10"
   ]
  },
  {
   "cell_type": "code",
   "execution_count": 45,
   "id": "3ee0f66c-2b41-4b69-b16b-8678cf6f88dd",
   "metadata": {},
   "outputs": [
    {
     "data": {
      "text/plain": [
       "array([[4, 4, 4, 4, 4, 4, 4, 4, 4, 4, 4],\n",
       "       [4, 4, 4, 4, 4, 4, 4, 4, 4, 4, 4],\n",
       "       [4, 4, 4, 4, 4, 4, 4, 4, 4, 4, 4]], dtype=int64)"
      ]
     },
     "execution_count": 45,
     "metadata": {},
     "output_type": "execute_result"
    }
   ],
   "source": [
    "a11 = np.full((3,11),4.56,dtype=np.int64)\n",
    "a11"
   ]
  },
  {
   "cell_type": "code",
   "execution_count": 50,
   "id": "6e63848a-4acc-4708-bcde-c44f7e5ac1f3",
   "metadata": {},
   "outputs": [
    {
     "data": {
      "text/plain": [
       "array([ 0.,  1.,  2.,  3.,  4.,  5.,  6.,  7.,  8.,  9., 10.])"
      ]
     },
     "execution_count": 50,
     "metadata": {},
     "output_type": "execute_result"
    }
   ],
   "source": [
    "a12 = np.linspace(0,10,11)\n",
    "a12"
   ]
  },
  {
   "cell_type": "code",
   "execution_count": 54,
   "id": "a77c66ec-e8c6-4cda-a38a-4684430cedcd",
   "metadata": {},
   "outputs": [
    {
     "data": {
      "text/plain": [
       "array([[9, 4, 0, 3, 8],\n",
       "       [6, 3, 1, 3, 7],\n",
       "       [4, 0, 2, 3, 0],\n",
       "       [0, 6, 9, 4, 3],\n",
       "       [5, 5, 0, 8, 3],\n",
       "       [5, 2, 2, 1, 8]], dtype=int64)"
      ]
     },
     "execution_count": 54,
     "metadata": {},
     "output_type": "execute_result"
    }
   ],
   "source": [
    "rng = np.random.default_rng(seed=1701)\n",
    "\n",
    "x1=rng.integers(10,size =(6,5))\n",
    "x1"
   ]
  },
  {
   "cell_type": "code",
   "execution_count": null,
   "id": "28895c3f-813d-43a2-9935-c233bb1b89cc",
   "metadata": {},
   "outputs": [],
   "source": []
  },
  {
   "cell_type": "code",
   "execution_count": null,
   "id": "697f129e-01ce-4bd1-bc11-3952f8cbe6d4",
   "metadata": {},
   "outputs": [],
   "source": []
  }
 ],
 "metadata": {
  "kernelspec": {
   "display_name": "Python 3 (ipykernel)",
   "language": "python",
   "name": "python3"
  },
  "language_info": {
   "codemirror_mode": {
    "name": "ipython",
    "version": 3
   },
   "file_extension": ".py",
   "mimetype": "text/x-python",
   "name": "python",
   "nbconvert_exporter": "python",
   "pygments_lexer": "ipython3",
   "version": "3.11.7"
  }
 },
 "nbformat": 4,
 "nbformat_minor": 5
}
