{
 "cells": [
  {
   "cell_type": "code",
   "execution_count": null,
   "id": "7a07816b-e8b2-44a6-9643-666008c92d24",
   "metadata": {},
   "outputs": [],
   "source": [
    "# python collection\n",
    "# list \n",
    "# ordered\n",
    "# multiple and duplicate data \n",
    "# mutable"
   ]
  },
  {
   "cell_type": "code",
   "execution_count": 1,
   "id": "92117d06-1448-490d-8486-390a0936fce1",
   "metadata": {},
   "outputs": [
    {
     "name": "stdout",
     "output_type": "stream",
     "text": [
      "<class 'list'>\n"
     ]
    }
   ],
   "source": [
    "a = list()\n",
    "b = [23,45,34,56,]\n",
    "print(type(b))"
   ]
  },
  {
   "cell_type": "code",
   "execution_count": 2,
   "id": "cc75b109-f743-4f50-a392-041b1eb4ec97",
   "metadata": {},
   "outputs": [
    {
     "name": "stdout",
     "output_type": "stream",
     "text": [
      "apple\n",
      "['apple', 'ball', 'cat']\n",
      "['apple', 'cat']\n"
     ]
    }
   ],
   "source": [
    "a = ['apple','ball','cat','dog','elephant']\n",
    "print(a[0])\n",
    "print(a[0:3])\n",
    "print(a[0:4:2])"
   ]
  },
  {
   "cell_type": "code",
   "execution_count": 3,
   "id": "e0f59ffa-92e9-4e4e-b801-ab0b0a22339f",
   "metadata": {},
   "outputs": [
    {
     "name": "stdout",
     "output_type": "stream",
     "text": [
      "[23, 45, 34, 56, 23, 45, 567, 56]\n"
     ]
    }
   ],
   "source": [
    "b = [23,45,34,56,23,45,567,56]\n",
    "print(b)"
   ]
  },
  {
   "cell_type": "code",
   "execution_count": 4,
   "id": "454556f3-b9e3-4cc8-b0d6-fa44adce9dfb",
   "metadata": {},
   "outputs": [
    {
     "name": "stdout",
     "output_type": "stream",
     "text": [
      "['apple', 'ball', 'cat', 'dog', 'elephant', 'apple', 'cat']\n"
     ]
    }
   ],
   "source": [
    "a = ['apple','ball','cat','dog','elephant','apple','cat']\n",
    "print(a)"
   ]
  },
  {
   "cell_type": "code",
   "execution_count": 5,
   "id": "d30d67d6-9008-4f72-bc88-c568a281c435",
   "metadata": {},
   "outputs": [
    {
     "name": "stdout",
     "output_type": "stream",
     "text": [
      "['apple', 'ball', 'cat', 'dog', 'elephant', 'apple', 'cat', 23, 45, 34, 56, 23, 45, 567, 56]\n",
      "['apple', 'ball', 'cat', 'dog', 'elephant', 'apple', 'cat', 'apple', 'ball', 'cat', 'dog', 'elephant', 'apple', 'cat']\n"
     ]
    }
   ],
   "source": [
    "b = [23,45,34,56,23,45,567,56]\n",
    "a = ['apple','ball','cat','dog','elephant','apple','cat']\n",
    "print(a+b)\n",
    "print(a*2)"
   ]
  },
  {
   "cell_type": "code",
   "execution_count": 6,
   "id": "484bf158-1c69-4c01-8045-8caa0599cfb3",
   "metadata": {},
   "outputs": [
    {
     "name": "stdout",
     "output_type": "stream",
     "text": [
      "apple\n",
      "ball\n",
      "cat\n",
      "dog\n",
      "elephant\n",
      "apple\n",
      "cat\n"
     ]
    }
   ],
   "source": [
    "a = ['apple','ball','cat','dog','elephant','apple','cat']\n",
    "\n",
    "for i in a:\n",
    "    print(i)"
   ]
  },
  {
   "cell_type": "code",
   "execution_count": 8,
   "id": "3a002ccc-8b9e-490c-bd36-21b1f8841da1",
   "metadata": {},
   "outputs": [
    {
     "name": "stdin",
     "output_type": "stream",
     "text": [
      "Enter n =  5\n",
      "Enter x =  2\n",
      "Enter x =  34\n",
      "Enter x =  56\n",
      "Enter x =  67\n",
      "Enter x =  79\n"
     ]
    },
    {
     "name": "stdout",
     "output_type": "stream",
     "text": [
      "[2, 34, 56, 67, 79]\n"
     ]
    }
   ],
   "source": [
    "l = [ ]\n",
    "n = int(input(\"Enter n = \"))\n",
    "\n",
    "for i in range(n):\n",
    "    X = int(input(\"Enter x = \"))\n",
    "    l.append(X)\n",
    "print(l)"
   ]
  },
  {
   "cell_type": "code",
   "execution_count": 14,
   "id": "b8248828-1452-4bba-8190-16fe5f05872c",
   "metadata": {},
   "outputs": [
    {
     "name": "stdout",
     "output_type": "stream",
     "text": [
      "Min Value =  23\n",
      "Min Value =  657\n",
      "Sum Value =  2262.9\n",
      "Average Value =  452.58000000000004\n",
      "[23, 23, 23, 34, 34, 45, 45, 45.56, 56, 78.34, 89, 89, 456, 565, 657]\n",
      "[657, 565, 456, 89, 89, 78.34, 56, 45.56, 45, 45, 34, 34, 23, 23, 23]\n"
     ]
    }
   ],
   "source": [
    "l = [23,34,45,23,45.56,23,45,657,78.34,89,89,56,565,456,34]\n",
    "print(\"Min Value = \",min(l))\n",
    "print(\"Min Value = \",max(l))\n",
    "print(\"Sum Value = \",sum(l))\n",
    "print(\"Average Value = \", sum(l)/n)\n",
    "l.sort()\n",
    "print(l)\n",
    "\n",
    "l.reverse()\n",
    "print(l)"
   ]
  },
  {
   "cell_type": "code",
   "execution_count": 1,
   "id": "f78b0c04-2377-42d9-8296-6c8f37d47868",
   "metadata": {},
   "outputs": [
    {
     "name": "stdin",
     "output_type": "stream",
     "text": [
      "Enter n =  5\n",
      "Enter x =  cat\n",
      "Enter x =  dog\n",
      "Enter x =  yammer\n",
      "Enter x =  hello\n",
      "Enter x =  janu\n"
     ]
    },
    {
     "name": "stdout",
     "output_type": "stream",
     "text": [
      "['cat', 'dog', 'yammer', 'hello', 'janu']\n"
     ]
    }
   ],
   "source": [
    "l = [ ]\n",
    "n = int(input(\"Enter n = \"))\n",
    "\n",
    "for i in range(n):\n",
    "    X = (input(\"Enter x = \"))\n",
    "    l.append(X)\n",
    "print(l)"
   ]
  },
  {
   "cell_type": "code",
   "execution_count": 3,
   "id": "6bea51c0-932d-4738-b1b7-6c1b424ba2ba",
   "metadata": {},
   "outputs": [
    {
     "name": "stdout",
     "output_type": "stream",
     "text": [
      "['cat', 'dog', 'hello', 'janu', 'yammer']\n"
     ]
    }
   ],
   "source": [
    "l.sort()\n",
    "print(l)"
   ]
  },
  {
   "cell_type": "code",
   "execution_count": 4,
   "id": "6002afba-3506-443a-85fe-60eff12f86a2",
   "metadata": {},
   "outputs": [
    {
     "name": "stdout",
     "output_type": "stream",
     "text": [
      "['cat', 'apple', 'dog', 'hello', 'janu', 'yammer']\n"
     ]
    }
   ],
   "source": [
    "l = ['cat', 'dog', 'hello', 'janu', 'yammer']\n",
    "l.insert(1,'apple')\n",
    "print(l)"
   ]
  },
  {
   "cell_type": "code",
   "execution_count": 5,
   "id": "ffc596e8-761e-46d6-a7c3-eb1177fa4856",
   "metadata": {},
   "outputs": [
    {
     "name": "stdout",
     "output_type": "stream",
     "text": [
      "['cat', 'apple', 'dog', 'hello', 'janu', 'yammer', 1, 2, 3, 4, 5]\n"
     ]
    }
   ],
   "source": [
    "l = ['cat', 'apple', 'dog', 'hello', 'janu', 'yammer']\n",
    "b = [1,2,3,4,5]\n",
    "l.extend(b)\n",
    "print(l)"
   ]
  },
  {
   "cell_type": "code",
   "execution_count": 8,
   "id": "ad801bbb-a39f-4861-8a2b-a4cfb743e775",
   "metadata": {},
   "outputs": [
    {
     "name": "stdout",
     "output_type": "stream",
     "text": [
      "['cat', 'sexy', 'dog', 'how', 'women', 'janu', 'yammer']\n"
     ]
    }
   ],
   "source": [
    "# update\n",
    "l = ['cat', 'apple', 'dog', 'hello', 'janu', 'yammer']\n",
    "l[1] = 'sexy'\n",
    "l[3:4] = ['how','women']\n",
    "\n",
    "print(l)"
   ]
  },
  {
   "cell_type": "code",
   "execution_count": 10,
   "id": "cbbe1b36-b22c-434c-9af0-2081b8636835",
   "metadata": {},
   "outputs": [
    {
     "name": "stdout",
     "output_type": "stream",
     "text": [
      "['apple', 'dog', 'hello', 'janu', 'yammer']\n"
     ]
    }
   ],
   "source": [
    "l = ['cat', 'apple', 'dog', 'hello', 'janu', 'yammer']\n",
    "del l[0]\n",
    "\n",
    "print(l)"
   ]
  },
  {
   "cell_type": "code",
   "execution_count": 11,
   "id": "7431902f-1ddf-4f50-b173-29bc580f5401",
   "metadata": {},
   "outputs": [
    {
     "name": "stdout",
     "output_type": "stream",
     "text": [
      "['hello', 'janu', 'yammer']\n"
     ]
    }
   ],
   "source": [
    "l = ['cat', 'apple', 'dog', 'hello', 'janu', 'yammer']\n",
    "del l[0:3]\n",
    "\n",
    "print(l)"
   ]
  },
  {
   "cell_type": "code",
   "execution_count": 12,
   "id": "4c70235d-c9e2-45d0-8996-e2c4970cf67d",
   "metadata": {},
   "outputs": [
    {
     "name": "stdout",
     "output_type": "stream",
     "text": [
      "['apple', 'dog', 'hello', 'janu', 'yammer']\n"
     ]
    }
   ],
   "source": [
    "l = ['cat', 'apple', 'dog', 'hello', 'janu', 'yammer']\n",
    "l.remove(\"cat\")\n",
    "print(l)"
   ]
  },
  {
   "cell_type": "code",
   "execution_count": 14,
   "id": "d1c900f7-fa21-4185-b8ed-0c82012f4f77",
   "metadata": {},
   "outputs": [
    {
     "name": "stdout",
     "output_type": "stream",
     "text": [
      "['apple', 'dog', 'hello', 'janu']\n"
     ]
    }
   ],
   "source": [
    "l = ['Apple', 'apple', 'dog', 'hello', 'janu', 'Apple']\n",
    "c = l.count(\"Apple\")\n",
    "for i in range(c):\n",
    "    l.remove(\"Apple\")\n",
    "\n",
    "print(l)"
   ]
  },
  {
   "cell_type": "code",
   "execution_count": 16,
   "id": "d0e0ef7b-6c4a-408b-b684-8236453ffd81",
   "metadata": {},
   "outputs": [
    {
     "name": "stdout",
     "output_type": "stream",
     "text": [
      "0 Apple\n",
      "1 apple\n",
      "2 dog\n",
      "3 hello\n",
      "4 janu\n",
      "5 Apple\n"
     ]
    }
   ],
   "source": [
    "l = ['Apple', 'apple', 'dog', 'hello', 'janu', 'Apple']\n",
    "\n",
    "for i in range(len(l)):\n",
    "    print(i,l[i])"
   ]
  },
  {
   "cell_type": "code",
   "execution_count": 18,
   "id": "8364dff7-4e6b-46ec-a724-1f948b42e11b",
   "metadata": {},
   "outputs": [
    {
     "name": "stdout",
     "output_type": "stream",
     "text": [
      "0\n",
      "5\n"
     ]
    }
   ],
   "source": [
    "l = ['Apple', 'apple', 'dog', 'hello', 'janu', 'Apple']\n",
    "\n",
    "for i in range(len(l)):\n",
    "    if l[i] == \"Apple\":\n",
    "        print(i)"
   ]
  },
  {
   "cell_type": "code",
   "execution_count": 19,
   "id": "13ef8b6b-6cf5-447a-90a9-4f34a8e1ce70",
   "metadata": {},
   "outputs": [
    {
     "name": "stdout",
     "output_type": "stream",
     "text": [
      "['Apple', 'apple', 'dog', 'janu', 'Apple']\n"
     ]
    }
   ],
   "source": [
    "l = ['Apple', 'apple', 'dog', 'hello', 'janu', 'Apple']\n",
    "\n",
    "l.pop(3)\n",
    "\n",
    "print(l)"
   ]
  }
 ],
 "metadata": {
  "kernelspec": {
   "display_name": "Python 3 (ipykernel)",
   "language": "python",
   "name": "python3"
  },
  "language_info": {
   "codemirror_mode": {
    "name": "ipython",
    "version": 3
   },
   "file_extension": ".py",
   "mimetype": "text/x-python",
   "name": "python",
   "nbconvert_exporter": "python",
   "pygments_lexer": "ipython3",
   "version": "3.11.7"
  }
 },
 "nbformat": 4,
 "nbformat_minor": 5
}
