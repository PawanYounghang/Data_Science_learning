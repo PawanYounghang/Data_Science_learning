{
 "cells": [
  {
   "cell_type": "code",
   "execution_count": null,
   "id": "41a85921-0168-44f0-a84f-682443eb6aec",
   "metadata": {},
   "outputs": [],
   "source": [
    "#loop\n",
    "#for loop\n",
    "#while loop"
   ]
  },
  {
   "cell_type": "code",
   "execution_count": 1,
   "id": "ccd845fb-399f-414d-be72-274db9a17382",
   "metadata": {},
   "outputs": [
    {
     "data": {
      "text/plain": [
       "range(0, 30, 3)"
      ]
     },
     "execution_count": 1,
     "metadata": {},
     "output_type": "execute_result"
    }
   ],
   "source": [
    "#for loop\n",
    "range(5) #0,1,2,3,4\n",
    "range(0,5)  #0,1,2,3,4\n",
    "range(0,30,3) #0,3,6,9,12,15,18,21,24,27"
   ]
  },
  {
   "cell_type": "code",
   "execution_count": 14,
   "id": "28a03956-4401-481d-8a65-0cc6d63b3ae7",
   "metadata": {},
   "outputs": [
    {
     "name": "stdout",
     "output_type": "stream",
     "text": [
      "0\n",
      "1\n",
      "3\n",
      "4\n",
      "0\n",
      "3\n",
      "6\n"
     ]
    }
   ],
   "source": [
    "for i in range(5):\n",
    "    if i == 2:\n",
    "        continue\n",
    "    print(i)\n",
    "for x in range(0,20,3):\n",
    "    if x==9:\n",
    "        break\n",
    "    print(x)"
   ]
  },
  {
   "cell_type": "code",
   "execution_count": 17,
   "id": "be17a502-d3cd-4e82-a9d5-b26c34e412b4",
   "metadata": {},
   "outputs": [
    {
     "name": "stdin",
     "output_type": "stream",
     "text": [
      " n =  12\n"
     ]
    },
    {
     "name": "stdout",
     "output_type": "stream",
     "text": [
      "12  X  1  =  12\n",
      "12  X  2  =  24\n",
      "12  X  3  =  36\n",
      "12  X  4  =  48\n",
      "12  X  5  =  60\n",
      "12  X  6  =  72\n",
      "12  X  7  =  84\n",
      "12  X  8  =  96\n",
      "12  X  9  =  108\n",
      "12  X  10  =  120\n"
     ]
    }
   ],
   "source": [
    "n = int(input(\" n = \"))\n",
    "for i in range(1,11):\n",
    "    print(n,\" X \", i, \" = \",n*i)"
   ]
  },
  {
   "cell_type": "code",
   "execution_count": 24,
   "id": "38c1bbf4-6ff3-4f8b-9d56-0414d425e829",
   "metadata": {},
   "outputs": [
    {
     "name": "stdin",
     "output_type": "stream",
     "text": [
      " n =  4\n",
      "Enter the value =  12\n",
      "Enter the value =  23\n",
      "Enter the value =  12\n",
      "Enter the value =  32\n"
     ]
    },
    {
     "name": "stdout",
     "output_type": "stream",
     "text": [
      "79\n"
     ]
    }
   ],
   "source": [
    "s = 0\n",
    "n = int(input(\" n = \"))\n",
    "for i in range(n):\n",
    "    x = int(input(\"Enter the value = \"))\n",
    "    s = s + x\n",
    "print(s)"
   ]
  },
  {
   "cell_type": "code",
   "execution_count": 28,
   "id": "3247ea12-1798-433d-8afa-b78f2ef39504",
   "metadata": {},
   "outputs": [
    {
     "name": "stdin",
     "output_type": "stream",
     "text": [
      " n =  2\n",
      "Enter the value =  Ram\n",
      "Enter the value =  kumar\n"
     ]
    },
    {
     "name": "stdout",
     "output_type": "stream",
     "text": [
      "Dogs name : \n",
      "Ram\n",
      "kumar\n",
      "\n"
     ]
    }
   ],
   "source": [
    "s = str(\"Dogs name : \\n\")\n",
    "n = int(input(\" n = \"))\n",
    "for i in range(n):\n",
    "    x = input(\"Enter the value = \")\n",
    "    s = s + x + \"\\n\"\n",
    "print(s)"
   ]
  },
  {
   "cell_type": "code",
   "execution_count": 30,
   "id": "d803a010-2191-423b-b5cb-b8c0f569d94d",
   "metadata": {},
   "outputs": [
    {
     "name": "stdin",
     "output_type": "stream",
     "text": [
      "Enter n =  1\n",
      "Enter name = Ram \n",
      "Phone no = 9805922672\n"
     ]
    },
    {
     "name": "stdout",
     "output_type": "stream",
     "text": [
      "Ram  9805922672\n",
      "\n"
     ]
    }
   ],
   "source": [
    "s = str()\n",
    "n = int(input(\"Enter n = \"))\n",
    "for i in range(n):\n",
    "    name = input(\"Enter name =\")\n",
    "    phone = input(\"Phone no =\")\n",
    "    s = s + name + \" \" + phone + \"\\n\"\n",
    "\n",
    "print(s)"
   ]
  },
  {
   "cell_type": "code",
   "execution_count": 5,
   "id": "ea0e8934-2ddc-410f-bbd4-ea90773cb1f6",
   "metadata": {},
   "outputs": [
    {
     "name": "stdin",
     "output_type": "stream",
     "text": [
      "n =  5\n",
      "product name = Oranges\n",
      "price = 230\n",
      "quintity =  4\n",
      "product name = Rice\n",
      "price = 1500\n",
      "quintity =  2\n",
      "product name = Apple\n",
      "price = 450\n",
      "quintity =  4\n",
      "product name = Oil\n",
      "price = 200\n",
      "quintity =  5\n",
      "product name = Noodles \n",
      "price = 85\n",
      "quintity =  6\n"
     ]
    },
    {
     "name": "stdout",
     "output_type": "stream",
     "text": [
      "Oranges    \t\t230   X   4\t = 920\n",
      "Rice    \t\t1500   X   2\t = 3000\n",
      "Apple    \t\t450   X   4\t = 1800\n",
      "Oil    \t\t200   X   5\t = 1000\n",
      "Noodles     \t\t85   X   6\t = 510\n",
      "\n",
      "Total = 7230\n"
     ]
    }
   ],
   "source": [
    "n = int(input(\"n = \"))  #no of items \n",
    "bill = str()\n",
    "all_total = 0\n",
    "for i in range(n):\n",
    "    name = input(\"product name =\")\n",
    "    price = int(input(\"price =\"))\n",
    "    quantity = int(input(\"quintity = \"))\n",
    "    total = price*quantity\n",
    "    bill = bill + name + \"    \\t\\t\" + str(price) + \"   X   \" + str(quantity) + \"\\t = \" + str(total) + \"\\n\"\n",
    "    all_total = all_total + total\n",
    "\n",
    "print(bill)\n",
    "print(\"Total =\",all_total)"
   ]
  },
  {
   "cell_type": "code",
   "execution_count": null,
   "id": "3a1f06f9-d4a1-4ce3-897a-1d03240dd1af",
   "metadata": {},
   "outputs": [],
   "source": []
  }
 ],
 "metadata": {
  "kernelspec": {
   "display_name": "Python 3 (ipykernel)",
   "language": "python",
   "name": "python3"
  },
  "language_info": {
   "codemirror_mode": {
    "name": "ipython",
    "version": 3
   },
   "file_extension": ".py",
   "mimetype": "text/x-python",
   "name": "python",
   "nbconvert_exporter": "python",
   "pygments_lexer": "ipython3",
   "version": "3.11.7"
  }
 },
 "nbformat": 4,
 "nbformat_minor": 5
}
